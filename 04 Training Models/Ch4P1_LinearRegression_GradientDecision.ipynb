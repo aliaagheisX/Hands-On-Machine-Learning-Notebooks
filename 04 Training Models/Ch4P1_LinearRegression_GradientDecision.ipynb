{
 "cells": [
  {
   "cell_type": "markdown",
   "id": "da503a43-03f2-4dae-a1ec-7e16366c073f",
   "metadata": {},
   "source": [
    "# Introduction to Chapter 4 -- Training Models\n",
    "in past chapters we treated the models as black boxes. \\\n",
    "in this chapter we will take more deep look on algorithms and will be essential for part 2 of the book \\\n",
    "__Table of Contents:__\n",
    "* Linear Regression Model\n",
    "    * Using a direct “closed-form” equation that directly computes the model parameters that best fit the model to the training set\n",
    "    * Using an iterative optimization approach \"Gradient Descent\" we will look on few types (Batch GD, Mini-batch GD, and Stochastic GD)\n",
    "* Polynomial Regression (that can fit nonlinear Dataset)\n",
    "* Learning Curves\n",
    "* Regularization Techinques\n",
    "* Logistic Regression\n",
    "* Softmax Regression"
   ]
  },
  {
   "cell_type": "markdown",
   "id": "0a83b607-737d-45bc-94c4-72361161a6b4",
   "metadata": {},
   "source": [
    "# Linear Regression\n",
    "let \n",
    "$$\n",
    "\\hat{y} = \\theta_0 + \\theta_1 x_1 + \\theta_2 x_2 + ... + \\theta_n x_n\n",
    "$$\n",
    "where \n",
    "- $\\hat{y}$ is the predicted value \n",
    "- $n$ is number of features\n",
    "- $x_i$ is the ith featue\n",
    "- $\\theta_0 ... \\theta_n$ is the model parameters\n",
    "    - $\\theta_0$ is the bias term or intercerpet\n",
    "    - $\\theta_1 .. \\theta_n$ is the feture weights\n",
    "    \n",
    "we can vectorize it by let $\\mathbf{x}$ be  vector of $[x_0, x_1, ..., x_n]$ and $\\bf{\\theta}$ be column vector of $[\\theta_0,...\\theta_n]$\n",
    "\n",
    "$$\n",
    "  \\hat{y} = h_{\\theta}(\\bf{x}) = \\bf{\\theta^T.x}  \\\n",
    "$$\n",
    "$h_{\\theta}$ is the hypothesis function, using the model parameters $\\bf{\\theta}$\n",
    "\n",
    "\n",
    "<div class=\"alert alert-block alert-warning\">Note: in Machine Learning typically vectors consider columns, but to not switch to much will use row</div>\n",
    "\n"
   ]
  },
  {
   "cell_type": "markdown",
   "id": "b245d5e7-6bbd-4e5f-832b-4a357417839b",
   "metadata": {},
   "source": [
    "## Training Linear Regression (Closed Form Algorithms)"
   ]
  },
  {
   "cell_type": "markdown",
   "id": "3e0a44cb-9f86-4926-aba6-38de5088d310",
   "metadata": {
    "jp-MarkdownHeadingCollapsed": true
   },
   "source": [
    "### Closed Form Derivation"
   ]
  },
  {
   "cell_type": "markdown",
   "id": "e5c2b50f-a99b-4f93-a5e2-0b5351e869b0",
   "metadata": {},
   "source": [
    "We need to have cost function or something we need to optimize, we know that `RMSE` is best estimate of `Linear Regreesion` model so we need $\\bf{W}$ or $\\bf{\\theta}$ to minimize `RMSE` or `MSE` as it's easy and don't matter\n",
    "$$\n",
    "    \\text{MSE}(\\mathbf{X}, h_{\\theta}) = \\frac{1}{m} \\sum_{i=0}^{m}(\\mathbf{\\theta^T.x^{(i)}} - y^{(i)})^2\n",
    "$$\n",
    "one solution is the closed form\n",
    "$$\n",
    "    \\mathbf{w} = (\\mathbf{XX^T})^{-1}\\mathbf{X}y^T\n",
    "$$\n",
    "where $\\mathbf{X} = [\\mathbf{x_1, x_2, ... x_m}]$ and same with $\\mathbf{y}$ \n",
    "\n",
    "so when solve `MSE`\n",
    "\n",
    "$$\n",
    "    \\text{MSE}(\\bf{X}, h_{\\theta}) = \\frac{1}{m} \\sum_{i=0}^{m}(((\\bf{XX^T})^{-1}\\bf{X}y^T)^T\\bf{.x^{(i)}} - y^{(i)})^2\\\\=\\frac{1}{m} \\sum_{i=0}^{m}((\\bf{X^{T^{-1}}X^{-1}}\\bf{X}y^T)^T\\bf{.x^{(i)}} - y^{(i)})^2\\\\=\\frac{1}{m} \\sum_{i=0}^{m}(y.X^{-1})\\bf{.x^{(i)}} - y^{(i)})^2\n",
    "$$\n",
    "\n",
    "#### Why we use MSE\n",
    "\n",
    "#### Assumption\n",
    "\n",
    "<img src=\"./img/linreg.png\" />\n",
    "\n",
    "let $ y_i = \\bf{w}^T \\bf{x_i} + \\epsilon_i$ where $\\epsilon_i \\sim \\mathcal{N}(0, \\sigma^2)$\n",
    "\n",
    "$\\implies y_i | \\mathbf{x_i} \\sim \\mathcal{N}(\\mathbf {w^Tx_i}, \\sigma^2) \\implies P(y_i|\\mathbf{x_i}, \\mathbf{w}) = \\frac{1}{\\sqrt{2\\pi\\sigma^2}} e^{\\frac{-1}{2}(\\frac{\\mathbf{w^T x_i} - y_i}{\\sigma})^2}$\n",
    "\n",
    "\n",
    "In words, we assume that the data is drawn from a \"line\" $w^⊤x$ through the origin (one can always add a bias / offset through an additional dimension). For each data point with features $x_i$, the label $y$ is drawn from a Gaussian with mean $w^⊤ x_i$ and variance $\\sigma^2$. Our task is to estimate the slope $\\mathbf{w}$ from the data.\n",
    "#### Derivation of MSE\n",
    "<img src=\"./img/estimating_with_mle.png\" />"
   ]
  },
  {
   "cell_type": "markdown",
   "id": "96dc6dc9-56ac-444e-8170-be7e21900c52",
   "metadata": {},
   "source": [
    "### Implementation"
   ]
  },
  {
   "cell_type": "code",
   "execution_count": 3,
   "id": "6e00a3f8",
   "metadata": {
    "execution": {
     "iopub.execute_input": "2024-07-08T00:18:13.305816Z",
     "iopub.status.busy": "2024-07-08T00:18:13.304822Z",
     "iopub.status.idle": "2024-07-08T00:18:13.346524Z",
     "shell.execute_reply": "2024-07-08T00:18:13.345516Z",
     "shell.execute_reply.started": "2024-07-08T00:18:13.305816Z"
    }
   },
   "outputs": [],
   "source": [
    "import numpy as np\n",
    "import pandas as pd\n",
    "import matplotlib.pyplot as plt\n",
    "%matplotlib inline"
   ]
  },
  {
   "cell_type": "code",
   "execution_count": 4,
   "id": "9bcb6a19-b61e-4685-afb9-e9a948431dd2",
   "metadata": {
    "execution": {
     "iopub.execute_input": "2024-07-07T06:57:04.617560Z",
     "iopub.status.busy": "2024-07-07T06:57:04.616561Z",
     "iopub.status.idle": "2024-07-07T06:57:04.763198Z",
     "shell.execute_reply": "2024-07-07T06:57:04.763198Z",
     "shell.execute_reply.started": "2024-07-07T06:57:04.617560Z"
    }
   },
   "outputs": [
    {
     "data": {
      "text/plain": [
       "Text(0, 0.5, 'y')"
      ]
     },
     "execution_count": 4,
     "metadata": {},
     "output_type": "execute_result"
    },
    {
     "data": {
      "image/png": "[encoded data removed]",
      "text/plain": [
       "<Figure size 640x480 with 1 Axes>"
      ]
     },
     "metadata": {},
     "output_type": "display_data"
    }
   ],
   "source": [
    "# let's look on the code now\n",
    "X = 2 * np.random.rand(100, 1) # note here the book used mxn so we inverse transpose\n",
    "y = 4 + 3 * X + np.random.randn(100, 1)\n",
    "plt.plot(X, y, 'ro')\n",
    "plt.plot(X, 4 + 3*X, 'b-')\n",
    "plt.xlabel('X1')\n",
    "plt.ylabel('y')"
   ]
  },
  {
   "cell_type": "markdown",
   "id": "d054379c-8064-4572-b354-ab22f03dfbbb",
   "metadata": {},
   "source": [
    "$$\n",
    "    \\mathbf{w} = (\\mathbf{XX^T})^{-1}\\mathbf{X}y^T\n",
    "$$"
   ]
  },
  {
   "cell_type": "code",
   "execution_count": 5,
   "id": "ec0d9a1e-cb34-4c86-acbe-98337b28d24a",
   "metadata": {
    "execution": {
     "iopub.execute_input": "2024-07-07T06:57:27.550591Z",
     "iopub.status.busy": "2024-07-07T06:57:27.550591Z",
     "iopub.status.idle": "2024-07-07T06:57:27.555198Z",
     "shell.execute_reply": "2024-07-07T06:57:27.555198Z",
     "shell.execute_reply.started": "2024-07-07T06:57:27.550591Z"
    }
   },
   "outputs": [
    {
     "data": {
      "text/plain": [
       "array([[3.74542041],\n",
       "       [3.18102444]])"
      ]
     },
     "execution_count": 5,
     "metadata": {},
     "output_type": "execute_result"
    }
   ],
   "source": [
    "# y = 4 + 3 X + random_noise normally distributed\n",
    "X_b = np.c_[np.ones((100, 1)), X] # add ones for all examples since its X is transpose\n",
    "theta_best = np.linalg.inv(X_b.T @ X_b) @ X_b.T @ y\n",
    "\n",
    "theta_best"
   ]
  },
  {
   "cell_type": "code",
   "execution_count": 6,
   "id": "eeb9b881-2f95-4b20-861c-a2fc752687b8",
   "metadata": {
    "execution": {
     "iopub.execute_input": "2024-07-07T06:57:33.314936Z",
     "iopub.status.busy": "2024-07-07T06:57:33.314936Z",
     "iopub.status.idle": "2024-07-07T06:57:33.318903Z",
     "shell.execute_reply": "2024-07-07T06:57:33.318903Z",
     "shell.execute_reply.started": "2024-07-07T06:57:33.314936Z"
    }
   },
   "outputs": [
    {
     "data": {
      "text/plain": [
       "array([[ 3.74542041],\n",
       "       [10.10746929]])"
      ]
     },
     "execution_count": 6,
     "metadata": {},
     "output_type": "execute_result"
    }
   ],
   "source": [
    "X_new = np.array([[0], [2]]) # eg., X_test\n",
    "X_new_b = np.c_[np.ones((2, 1)), X_new] # add x0 = 1 to each instance\n",
    "y_predict = X_new_b @ theta_best\n",
    "y_predict"
   ]
  },
  {
   "cell_type": "code",
   "execution_count": 7,
   "id": "e66fb689-f612-4b20-b42c-0360dada8e04",
   "metadata": {
    "execution": {
     "iopub.execute_input": "2024-07-07T06:57:35.001917Z",
     "iopub.status.busy": "2024-07-07T06:57:35.000917Z",
     "iopub.status.idle": "2024-07-07T06:57:35.148781Z",
     "shell.execute_reply": "2024-07-07T06:57:35.148781Z",
     "shell.execute_reply.started": "2024-07-07T06:57:35.001917Z"
    }
   },
   "outputs": [
    {
     "data": {
      "image/png": "[encoded data removed]",
      "text/plain": [
       "<Figure size 640x480 with 1 Axes>"
      ]
     },
     "metadata": {},
     "output_type": "display_data"
    }
   ],
   "source": [
    "plt.plot(X_new, y_predict, \"r-\")\n",
    "plt.plot(X, y, \"b.\")\n",
    "plt.axis([0, 2, 0, 15])\n",
    "plt.show()"
   ]
  },
  {
   "cell_type": "code",
   "execution_count": 8,
   "id": "b5f5cfab-05d5-4d4a-8534-195a80c4053d",
   "metadata": {
    "execution": {
     "iopub.execute_input": "2024-07-07T06:57:36.219562Z",
     "iopub.status.busy": "2024-07-07T06:57:36.219562Z",
     "iopub.status.idle": "2024-07-07T06:57:39.286374Z",
     "shell.execute_reply": "2024-07-07T06:57:39.286374Z",
     "shell.execute_reply.started": "2024-07-07T06:57:36.219562Z"
    }
   },
   "outputs": [],
   "source": [
    "# let make it use sklearn\n",
    "from sklearn.linear_model import LinearRegression"
   ]
  },
  {
   "cell_type": "code",
   "execution_count": 9,
   "id": "bb75d1ab-029e-4ae2-a32c-1a5b3d26c3a1",
   "metadata": {
    "execution": {
     "iopub.execute_input": "2024-07-07T06:57:39.287382Z",
     "iopub.status.busy": "2024-07-07T06:57:39.287382Z",
     "iopub.status.idle": "2024-07-07T06:57:39.296771Z",
     "shell.execute_reply": "2024-07-07T06:57:39.296771Z",
     "shell.execute_reply.started": "2024-07-07T06:57:39.287382Z"
    }
   },
   "outputs": [],
   "source": [
    "lin_reg = LinearRegression().fit(X, y)"
   ]
  },
  {
   "cell_type": "code",
   "execution_count": 10,
   "id": "d89a1ca4-07ef-47a5-ae9c-b0aa81b8d200",
   "metadata": {
    "execution": {
     "iopub.execute_input": "2024-07-07T06:57:39.306306Z",
     "iopub.status.busy": "2024-07-07T06:57:39.306306Z",
     "iopub.status.idle": "2024-07-07T06:57:39.310226Z",
     "shell.execute_reply": "2024-07-07T06:57:39.310226Z",
     "shell.execute_reply.started": "2024-07-07T06:57:39.306306Z"
    }
   },
   "outputs": [
    {
     "data": {
      "text/plain": [
       "(array([[3.18102444]]), array([3.74542041]))"
      ]
     },
     "execution_count": 10,
     "metadata": {},
     "output_type": "execute_result"
    }
   ],
   "source": [
    "lin_reg.coef_, lin_reg.intercept_ #approx 3, 4"
   ]
  },
  {
   "cell_type": "code",
   "execution_count": 11,
   "id": "4b50af30-fc67-4616-b4c4-bae28d884e98",
   "metadata": {
    "execution": {
     "iopub.execute_input": "2024-07-07T06:57:40.269911Z",
     "iopub.status.busy": "2024-07-07T06:57:40.268902Z",
     "iopub.status.idle": "2024-07-07T06:57:40.273269Z",
     "shell.execute_reply": "2024-07-07T06:57:40.273269Z",
     "shell.execute_reply.started": "2024-07-07T06:57:40.269911Z"
    }
   },
   "outputs": [
    {
     "data": {
      "text/plain": [
       "array([[ 3.74542041],\n",
       "       [10.10746929]])"
      ]
     },
     "execution_count": 11,
     "metadata": {},
     "output_type": "execute_result"
    }
   ],
   "source": [
    "lin_reg.predict(X_new)"
   ]
  },
  {
   "cell_type": "markdown",
   "id": "e11e2fd1-1818-4804-a3fb-c101f328060d",
   "metadata": {},
   "source": [
    "### SVD Approach "
   ]
  },
  {
   "cell_type": "markdown",
   "id": "d21adc0e-ca27-49e4-aef6-9688de870350",
   "metadata": {},
   "source": [
    "\n",
    "#### Pseudoinverse\n",
    "$$\n",
    "    \\hat{\\theta} = \\mathbf{X^{+}}.y\n",
    "$$\n",
    "\n",
    "The pseudoinverse itself is computed using a standard matrix factorization technique  ___Singular Value Decomposition (SVD)___ that can decompose the training set matrix $\\mathbf{X}$ into the matrix multiplication of 3 matrices $\\mathbf{U Σ V^⊺}$ \n",
    "\n",
    "The pseudoinverse is computed as $\\mathbf{X^{+}} = \\mathbf{V Σ^+ U^⊺}$\n",
    "\n",
    "to compute $\\mathbf{Σ^+}$ \n",
    "1. set to zero all value that less than $\\epsilon$\n",
    "2. replace all non-zero values to their inverse\n",
    "3. transpose resulting matrix\n",
    "\n",
    ">This approach is more efficient than computing the Normal\n",
    "Equation, plus it handles edge cases nicely: indeed, the Normal Equation\n",
    "may not work if the matrix X X is not invertible (i.e., singular), such as if m\n",
    "< n or if some features are redundant, but the pseudoinverse is always\n",
    "defined.\n"
   ]
  },
  {
   "cell_type": "code",
   "execution_count": 12,
   "id": "3a897ac5-7c91-477e-94be-0cbbfb632e3d",
   "metadata": {
    "execution": {
     "iopub.execute_input": "2024-07-07T06:57:46.533353Z",
     "iopub.status.busy": "2024-07-07T06:57:46.533353Z",
     "iopub.status.idle": "2024-07-07T06:57:46.543360Z",
     "shell.execute_reply": "2024-07-07T06:57:46.543360Z",
     "shell.execute_reply.started": "2024-07-07T06:57:46.533353Z"
    }
   },
   "outputs": [
    {
     "data": {
      "text/plain": [
       "array([[3.74542041],\n",
       "       [3.18102444]])"
      ]
     },
     "execution_count": 12,
     "metadata": {},
     "output_type": "execute_result"
    }
   ],
   "source": [
    "theta_bst_ = np.linalg.pinv(X_b) @ y\n",
    "theta_bst_"
   ]
  },
  {
   "cell_type": "code",
   "execution_count": 13,
   "id": "2b94043d-79e8-4475-8c4a-3319905820ed",
   "metadata": {
    "execution": {
     "iopub.execute_input": "2024-07-07T06:58:09.522093Z",
     "iopub.status.busy": "2024-07-07T06:58:09.521092Z",
     "iopub.status.idle": "2024-07-07T06:58:09.526961Z",
     "shell.execute_reply": "2024-07-07T06:58:09.526961Z",
     "shell.execute_reply.started": "2024-07-07T06:58:09.522093Z"
    }
   },
   "outputs": [
    {
     "data": {
      "text/plain": [
       "array([[3.74542041],\n",
       "       [3.18102444]])"
      ]
     },
     "execution_count": 13,
     "metadata": {},
     "output_type": "execute_result"
    }
   ],
   "source": [
    "# let's use scipy (in numpy)\n",
    "theta_best_svd, residuals, rank, s = np.linalg.lstsq(X_b, y, rcond=1e-6)\n",
    "theta_best_svd"
   ]
  },
  {
   "cell_type": "markdown",
   "id": "7d6e8e3f-3ced-48ff-a2d6-5dbe4584c636",
   "metadata": {
    "jp-MarkdownHeadingCollapsed": true
   },
   "source": [
    "### Time Complexity of Above Algorithms"
   ]
  },
  {
   "cell_type": "markdown",
   "id": "5cdbe0cf-43d4-49d3-9054-171805838dc8",
   "metadata": {
    "execution": {
     "iopub.execute_input": "2024-07-07T07:02:33.610826Z",
     "iopub.status.busy": "2024-07-07T07:02:33.610826Z",
     "iopub.status.idle": "2024-07-07T07:02:33.615169Z",
     "shell.execute_reply": "2024-07-07T07:02:33.615169Z",
     "shell.execute_reply.started": "2024-07-07T07:02:33.610826Z"
    },
    "jp-MarkdownHeadingCollapsed": true
   },
   "source": [
    "#### Training Complexity"
   ]
  },
  {
   "cell_type": "markdown",
   "id": "fa55041f-5a34-4b0e-9e12-9ba91ac263a6",
   "metadata": {
    "execution": {
     "iopub.execute_input": "2024-07-07T07:03:48.967220Z",
     "iopub.status.busy": "2024-07-07T07:03:48.967220Z",
     "iopub.status.idle": "2024-07-07T07:03:48.971065Z",
     "shell.execute_reply": "2024-07-07T07:03:48.971065Z",
     "shell.execute_reply.started": "2024-07-07T07:03:48.967220Z"
    }
   },
   "source": [
    "- __Normal Equation:__\n",
    "    - it compute $(\\mathbf{X.X^T})^{-1}$ where $\\mathbf{X.X^T}$ is matrix of size _(n+1)x(n+1)\n",
    "    - which is typically about $\\mathcal{O}(n^{2.4})$ to $\\mathcal{O}(n^{3})$\n",
    "- __SVD Approach:__\n",
    "    - The SVD approach used by _Scikit-Learn’s LinearRegression_ class is about $\\mathcal{O}(n^2)$\n",
    " \n",
    "\n",
    "<div class=\"alert alert-block alert-danger\">Both approaches are very bad at with large number of Features  (e.g., 100,000)</div>\n",
    "\n",
    "<div class=\"alert alert-block alert-success\">On the positive side, both are linear with regard to\n",
    "the number of instances in the training set (they are O(m)), <br/> so they handle large training\n",
    "sets efficiently, provided they can fit in memory.</div>"
   ]
  },
  {
   "cell_type": "markdown",
   "id": "222a5972-6092-4537-a082-c5a44656e036",
   "metadata": {
    "jp-MarkdownHeadingCollapsed": true
   },
   "source": [
    "\n",
    "#### Predication Complexity (PRO)\n",
    "Once you trained model and want to predict, The computatinally complexity is linear regard the number of features or new samples."
   ]
  },
  {
   "cell_type": "markdown",
   "id": "9d75ee6a-ba30-4582-9a95-47de01812465",
   "metadata": {},
   "source": [
    "## Gradient Descent "
   ]
  },
  {
   "cell_type": "markdown",
   "id": "2706e627-a18e-444d-a62b-5bb516b65e9d",
   "metadata": {
    "jp-MarkdownHeadingCollapsed": true
   },
   "source": [
    "### Defination"
   ]
  },
  {
   "cell_type": "markdown",
   "id": "1ea9cf8c-8ffa-4763-9401-66587ff3a6ae",
   "metadata": {
    "execution": {
     "iopub.execute_input": "2024-07-07T07:04:29.597391Z",
     "iopub.status.busy": "2024-07-07T07:04:29.597391Z",
     "iopub.status.idle": "2024-07-07T07:04:29.601515Z",
     "shell.execute_reply": "2024-07-07T07:04:29.601515Z",
     "shell.execute_reply.started": "2024-07-07T07:04:29.597391Z"
    }
   },
   "source": [
    "is generic optimization algorithm by taking small steps in order to minimize a cost function.\n",
    "\n",
    ">Suppose you are lost in the mountains in a dense fog, and you can only feel\n",
    "the slope of the ground below your feet. A good strategy to get to the bottom\n",
    "of the valley quickly is to go downhill in the direction of ___the steepest slope___.\n",
    "\n",
    "__steps:__\n",
    "1. initialize $\\theta$ with random values\n",
    "2. improve it gradually, taking one step in direction that decrease cost (eg., $MSE$)\n",
    "3. keep until algorithm converge\n",
    "\n",
    "<img width=\"500px\" src=\"./img/gradient_descent1.png\"/>"
   ]
  },
  {
   "cell_type": "markdown",
   "id": "b5f25b46-cf14-48bb-8ee8-d6f6c2fb3699",
   "metadata": {
    "jp-MarkdownHeadingCollapsed": true
   },
   "source": [
    "### Take Care in Gradient"
   ]
  },
  {
   "cell_type": "markdown",
   "id": "288319fb-17bc-4c0b-ad24-81820a304a0d",
   "metadata": {},
   "source": [
    "\n",
    "__Learning Rate__\n",
    "An __important hyperparameter__ to GD (meaning size of step each time it take)\n",
    "\n",
    "1. if it's small it will take many steps\n",
    "   <img width=\"500px\" src=\"./img/gradient_descent2.png\"/>\n",
    "\n",
    "3. if it's large it's risking overshooting, you may cross vally and go higher and never reach global minimum\n",
    "    <img width=\"500px\" src=\"./img/gradient_descent3.png\"/>\n",
    "\n",
    "4. not all cost functions are convex _(if you pick any two points on the\n",
    "curve, the line segment joining them never crosses the curve)_ with __no local minimum__\n",
    "\n",
    "    There may be holes, ridges, plateaus, and all sorts of irregular terrains, making\n",
    "    convergence to the minimum difficult\n",
    "    \n",
    "    there's two challenges causes by this:\n",
    "\n",
    "   \n",
    "        a. (left) it will converge to a local minimum, which is not as good as the global minimum. \n",
    "        b. (right)  it will take a very long time to cross the plateau. And if you stop too early, you will never reach the global minimum\n",
    "   <img width=\"500px\" src=\"./img/gradient_descent4.png\"/>"
   ]
  },
  {
   "cell_type": "markdown",
   "id": "46571073-9f7d-4c8e-9f89-3525f9100cde",
   "metadata": {},
   "source": [
    "___MSE Function___\n",
    "Fortunately, the _MSE_ is convex function. it's deriviative also continouse with a slope that never changes abruptly(surprisly).\n",
    "\n",
    "this mean it will guranttee to find solution close to the global minimum (if it gives enough time & not to large learning rate $\\alpha$)\n",
    "\n",
    "even ___MSE___ is in bowl shape BUT it can be elongated bowl (مسطح كدا) if features have different scales\n",
    "\n",
    "\n",
    "4. __Different Feature Scale__\n",
    "   \n",
    "    * As you can see, on the left the Gradient Descent algorithm goes straight\n",
    "    toward the minimum, thereby reaching it quickly,\n",
    "\n",
    "    * As on the right it first goes in a direction almost orthogonal to the direction of the global\n",
    "    minimum, and it ends with a long march down an almost flat valley. It will\n",
    "    eventually reach the minimum, but it will take a long time\n",
    "   <img width=\"1000px\" src=\"./img/gradient_descent5.png\"/>\n",
    "    <div class=\"alert alert-block alert-warning\">Note: you must always ensure all parameters have the same scale, or else it will take long time to converge </div>\n",
    "5. __Higher Dimension Higher Complexity__\n",
    "    * training a model means searching\n",
    "for a combination of model parameters that minimizes a cost function (over\n",
    "the training set).\n",
    "    *  It is a search in the model’s parameter space\n",
    "    *  the more parameters => the more dimensions this space => the harder\n",
    "the search is\n",
    "\n",
    "    > searching for a needle in a 300-dimensional haystack is much trickier than in 3 dimensions.\n",
    "    > \n",
    "    > Fortunately, since the cost function is convex in the case of Linear Regression, the needle is simply at the bottom of the bowl"
   ]
  },
  {
   "cell_type": "markdown",
   "id": "f8ff104e-f52f-468d-84f0-d28ec3fdeb76",
   "metadata": {},
   "source": [
    "## Batch Gradient Descent (let's start training)"
   ]
  },
  {
   "cell_type": "markdown",
   "id": "19619696-0a6f-4961-bd8f-45c1f2a95e7b",
   "metadata": {
    "jp-MarkdownHeadingCollapsed": true
   },
   "source": [
    "### Calculate Gradients"
   ]
  },
  {
   "cell_type": "markdown",
   "id": "fd137329-9b15-4231-b28e-7109360451ea",
   "metadata": {},
   "source": [
    "\n",
    "<img width=\"500px\" src=\"./img/gradient_eq.png\" />\n",
    "\n",
    "<div class=\"alert alert-block alert-warning\">Note: at each Gradient Descent it involve calculation on whole dataset this why it's called <b>Batch Gradient</b></div>\n",
    "\n",
    "\n",
    "<div class=\"alert alert-block alert-warning\">Note: As a result it is terribly <b>slow</b> on very large training\n",
    "sets However, Gradient Descent scales well with the number of features;</div>\n",
    "\n",
    "<div class=\"alert alert-block alert-info\">Info: training a Linear Regression\n",
    "model when there are hundreds of thousands of features is much faster using Gradient\n",
    "Descent than using the Normal Equation or SVD decomposition</div>\n",
    "\n",
    "\n",
    "__Update STEP:__\n",
    "where eta is learning rate\n",
    "$$\n",
    "\\theta_{new} = \\theta - \\eta \\nabla_{\\theta} \\text{MSE}(\\theta)\n",
    "$$"
   ]
  },
  {
   "cell_type": "markdown",
   "id": "ebef0426-2dfe-46b7-aa01-8c950e29ec61",
   "metadata": {
    "jp-MarkdownHeadingCollapsed": true
   },
   "source": [
    "### Implementation"
   ]
  },
  {
   "cell_type": "code",
   "execution_count": 14,
   "id": "88b19696-9379-4c0f-9aad-a125910788d3",
   "metadata": {
    "execution": {
     "iopub.execute_input": "2024-07-07T07:27:40.026716Z",
     "iopub.status.busy": "2024-07-07T07:27:40.026716Z",
     "iopub.status.idle": "2024-07-07T07:27:40.030270Z",
     "shell.execute_reply": "2024-07-07T07:27:40.030270Z",
     "shell.execute_reply.started": "2024-07-07T07:27:40.026716Z"
    },
    "scrolled": true
   },
   "outputs": [
    {
     "data": {
      "text/plain": [
       "((100, 2), (100, 1))"
      ]
     },
     "execution_count": 14,
     "metadata": {},
     "output_type": "execute_result"
    }
   ],
   "source": [
    "X_b.shape, y.shape"
   ]
  },
  {
   "cell_type": "code",
   "execution_count": 15,
   "id": "cd33c4cc-ab0f-4248-8964-0a480c784856",
   "metadata": {
    "execution": {
     "iopub.execute_input": "2024-07-07T07:31:07.723837Z",
     "iopub.status.busy": "2024-07-07T07:31:07.723837Z",
     "iopub.status.idle": "2024-07-07T07:31:07.726950Z",
     "shell.execute_reply": "2024-07-07T07:31:07.726950Z",
     "shell.execute_reply.started": "2024-07-07T07:31:07.723837Z"
    }
   },
   "outputs": [],
   "source": [
    "def calc_batch_grad(X_b, y, eta=0.1, n_iterations = 1000):\n",
    "    thetas = [np.random.randn(2,1)]\n",
    "    m = X_b.shape[0]\n",
    "    for i in range(n_iterations):\n",
    "        gradients = 2/m * X_b.T @ (X_b @ thetas[i] - y)\n",
    "        theta = thetas[i] - eta * gradients\n",
    "        thetas.append(theta)\n",
    "    return thetas"
   ]
  },
  {
   "cell_type": "code",
   "execution_count": 16,
   "id": "bd1a37c5-ea6e-4977-a610-efe74851cdfb",
   "metadata": {
    "execution": {
     "iopub.execute_input": "2024-07-07T07:31:22.802366Z",
     "iopub.status.busy": "2024-07-07T07:31:22.801370Z",
     "iopub.status.idle": "2024-07-07T07:31:22.819365Z",
     "shell.execute_reply": "2024-07-07T07:31:22.819365Z",
     "shell.execute_reply.started": "2024-07-07T07:31:22.802366Z"
    }
   },
   "outputs": [],
   "source": [
    "etas = [0.02, 0.1, 0.5]\n",
    "\n",
    "thetas = [calc_batch_grad(X_b, y, e) for e in etas]\n"
   ]
  },
  {
   "cell_type": "code",
   "execution_count": 17,
   "id": "c26083de-bfa0-4f0d-ba29-c00c09570090",
   "metadata": {
    "execution": {
     "iopub.execute_input": "2024-07-07T07:31:34.332858Z",
     "iopub.status.busy": "2024-07-07T07:31:34.331853Z",
     "iopub.status.idle": "2024-07-07T07:31:34.337379Z",
     "shell.execute_reply": "2024-07-07T07:31:34.337379Z",
     "shell.execute_reply.started": "2024-07-07T07:31:34.332858Z"
    }
   },
   "outputs": [
    {
     "data": {
      "text/plain": [
       "(3, 1001, 2, 1)"
      ]
     },
     "execution_count": 17,
     "metadata": {},
     "output_type": "execute_result"
    }
   ],
   "source": [
    "thetas = np.array(thetas)\n",
    "thetas.shape"
   ]
  },
  {
   "cell_type": "code",
   "execution_count": 18,
   "id": "66cdb0a7-4b54-43ba-b941-335efc404e2b",
   "metadata": {
    "execution": {
     "iopub.execute_input": "2024-07-07T07:32:27.882069Z",
     "iopub.status.busy": "2024-07-07T07:32:27.881067Z",
     "iopub.status.idle": "2024-07-07T07:32:28.789891Z",
     "shell.execute_reply": "2024-07-07T07:32:28.789891Z",
     "shell.execute_reply.started": "2024-07-07T07:32:27.882069Z"
    }
   },
   "outputs": [
    {
     "name": "stdout",
     "output_type": "stream",
     "text": [
      "[[3.74514818]\n",
      " [3.18126018]]\n",
      "[[3.74542041]\n",
      " [3.18102444]]\n",
      "[[-3.86180614e+56]\n",
      " [-4.45949951e+56]]\n"
     ]
    },
    {
     "data": {
      "image/png": "[encoded data removed]",
      "text/plain": [
       "<Figure size 1536x384 with 3 Axes>"
      ]
     },
     "metadata": {},
     "output_type": "display_data"
    }
   ],
   "source": [
    "plt.figure(figsize=(12, 3), dpi=128)\n",
    "for plot_i, thetas_plt in enumerate(thetas):\n",
    "    plt.subplot(1, 3, plot_i + 1)\n",
    "    plt.plot(X, y, 'b.')\n",
    "    plt.plot(X_b, X_b @ thetas_plt[0], 'g-', label=\"start\")\n",
    "    print(thetas_plt[-1])\n",
    "    for theta_line in thetas_plt[1::10]:\n",
    "        plt.plot(X, X_b @ theta_line, 'r-')\n",
    "        \n",
    "    plt.title(f\"eta={etas[plot_i]}\")\n",
    "    plt.axis([0, 2, 0, 15])\n",
    "    \n",
    "        \n",
    "    "
   ]
  },
  {
   "cell_type": "markdown",
   "id": "bf027bbd-ef4a-485c-aeb3-188398eb5bd6",
   "metadata": {
    "jp-MarkdownHeadingCollapsed": true
   },
   "source": [
    "### Tips for Hyperparameter Tunning"
   ]
  },
  {
   "cell_type": "markdown",
   "id": "ad847c0c-c9b1-4fa9-a24e-9534b44fc64d",
   "metadata": {
    "execution": {
     "iopub.execute_input": "2024-07-07T07:22:36.598392Z",
     "iopub.status.busy": "2024-07-07T07:22:36.598392Z",
     "iopub.status.idle": "2024-07-07T07:22:36.601793Z",
     "shell.execute_reply": "2024-07-07T07:22:36.601793Z",
     "shell.execute_reply.started": "2024-07-07T07:22:36.598392Z"
    }
   },
   "source": [
    "__TIP to choose learning rate__:\n",
    "- you can use Grid Search to find good learning rate\n",
    "- but you need to limit number of iterations to eliminate models that take so long to converge\n",
    "\n",
    "__TIP to choose number of iterations__:\n",
    "- between low (far away from optimial solution) and high (take so long) \n",
    "- solution to set large number of iterations & tolerance $\\epsilon$ (stop when gradient vector become tiny)\n",
    "\n",
    "__Convergance Rate__:\n",
    "- When the cost function is convex and its slope does not change abruptly (eg., _MSE_)\n",
    "- Batch Gradient Descent with a fixed $\\eta$ will eventually converge to the optimal solution\n",
    "- but you may have to wait a while: $\\approx \\mathcal{O}(1/\\epsilon)$  iterations to reach the\n",
    "optimum within a range of ϵ\n",
    "- depending on the shape of the cost function. If you divide the tolerance by 10 to have a more precise solution, then the algorithm may have to run about 10 times longer"
   ]
  },
  {
   "cell_type": "markdown",
   "id": "b4de5bda-6402-4edb-aa05-25d288788875",
   "metadata": {},
   "source": [
    "## Stochastic Gradient Descent"
   ]
  },
  {
   "cell_type": "markdown",
   "id": "609ce140-da3b-42dc-9809-8b5054500873",
   "metadata": {
    "jp-MarkdownHeadingCollapsed": true
   },
   "source": [
    "### Properties"
   ]
  },
  {
   "cell_type": "markdown",
   "id": "0bbc60d3-2807-436d-a63f-e161e6ad4bba",
   "metadata": {},
   "source": [
    "1. main problem with Batch Gradient Descent => it uses whole training set to compute gradients every time\n",
    "2. Stochastic is the completely oposite => it choose __ONE__ random sample every time to compute gradients\n",
    "3. __PRO__ much faster, possible to run on huge training sets\n",
    "4. called ___out-of-core___ (online learning that used for memory fit problems)\n",
    "5. __CON__ due it stochastic(_random_) nature => much less regular than Batch Gradient Descent\n",
    "    * cost will bounce up and down -> on average decreasing\n",
    "    * over time will end up very ___close___ to the _minimum__\n",
    "    * **BUT** will never reach it will just keep _bouncing_ around it\n",
    "    * solution is __GOOD__ but not __Optimal__\n",
    "      \n",
    "    <img width=\"400px\" src=\"./img/stochastic1.png\" />"
   ]
  },
  {
   "cell_type": "markdown",
   "id": "c25312ea-dc44-4cea-8f10-2ebed4eece82",
   "metadata": {},
   "source": [
    " __Randomness of Stochastic:__\n",
    "1. __PRO__ for irregular cost function, randomness will help to jump out from local minimum => __SGD have better chance__ of finding global minimum than __BGD__\n",
    "2. __CON__  it means that the algorithm can never settle at the minimum\n",
    "3. __One Solution__  this dilemma is to gradually reduce the learning rate.\n",
    "    *  The steps start out large -> (which helps make quick progress and escape local minima)\n",
    "    *  Then get smaller and smaller -> allowing the algorithm to settle at the global minimum\n",
    "    *  function determine learning rate called ___Learning Schedule___\n",
    "\n",
    "__Learning Schedule:__\n",
    "* if $\\eta$ reduced too <u>Quickly</u> you may -> get stuck to local minimum | frozen up halfway to global minimum\n",
    "* if $\\eta$ reduced too <u>Slowly</u> you may -> jump around the minimum for long time & end up with supoptimal solution if you halt training too early.\n"
   ]
  },
  {
   "cell_type": "markdown",
   "id": "7179a43e-55af-4396-9d47-bf85e37de165",
   "metadata": {
    "jp-MarkdownHeadingCollapsed": true
   },
   "source": [
    "### Implementation (Simple Learning Schedule)"
   ]
  },
  {
   "cell_type": "markdown",
   "id": "2fb3a8e2-1ac5-4023-bd18-7296569c4285",
   "metadata": {},
   "source": [
    "> The number of epochs is considered a hyperparameter. It defines the number of times the entire data set has to be worked through the learning algorithm.\n",
    "\n",
    "> By convention we iterate by rounds of m iterations; each round is called an\n",
    "___epoch___"
   ]
  },
  {
   "cell_type": "code",
   "execution_count": 21,
   "id": "366c3e42-6781-4929-a73d-83ba83e71a56",
   "metadata": {
    "execution": {
     "iopub.execute_input": "2024-07-08T01:47:03.267184Z",
     "iopub.status.busy": "2024-07-08T01:47:03.267184Z",
     "iopub.status.idle": "2024-07-08T01:47:03.337054Z",
     "shell.execute_reply": "2024-07-08T01:47:03.337054Z",
     "shell.execute_reply.started": "2024-07-08T01:47:03.267184Z"
    },
    "scrolled": true
   },
   "outputs": [
    {
     "data": {
      "text/plain": [
       "array([[3.73328558],\n",
       "       [3.1287693 ]])"
      ]
     },
     "execution_count": 21,
     "metadata": {},
     "output_type": "execute_result"
    }
   ],
   "source": [
    "n_epochs = 50\n",
    "t0, t1 = 5, 50 # learning schedule hyperparameters\n",
    "m = 100\n",
    "def learning_schedule(t):\n",
    "    return t0 / (t + t1)\n",
    "\n",
    "\n",
    "theta = np.random.randn(2,1) # random initialization\n",
    "thetas_update = [theta]\n",
    "for epoch in range(n_epochs):\n",
    "    for i in range(m):\n",
    "        # get random sample\n",
    "        random_index = np.random.randint(m) \n",
    "        xi, yi = X_b[[random_index]], y[[random_index]]\n",
    "        \n",
    "        gradients = 2 * xi.T @ (xi@theta - yi)\n",
    "        eta = learning_schedule(epoch * m + i)\n",
    "        theta = theta - eta * gradients\n",
    "        thetas_update.append(theta)\n",
    "theta"
   ]
  },
  {
   "cell_type": "markdown",
   "id": "85d92854-6c03-4a27-a52b-169bf276b519",
   "metadata": {
    "execution": {
     "iopub.execute_input": "2024-07-08T01:42:47.811484Z",
     "iopub.status.busy": "2024-07-08T01:42:47.811484Z",
     "iopub.status.idle": "2024-07-08T01:42:47.815618Z",
     "shell.execute_reply": "2024-07-08T01:42:47.815618Z",
     "shell.execute_reply.started": "2024-07-08T01:42:47.811484Z"
    }
   },
   "source": [
    "__Notice__ it only need 50*m to reach good results of $\\theta$ not like __BGD__ which need 1000 iteration on whole dataset"
   ]
  },
  {
   "cell_type": "code",
   "execution_count": 22,
   "id": "bbd43897-336c-47a1-9587-f3fac49d79e2",
   "metadata": {
    "execution": {
     "iopub.execute_input": "2024-07-08T01:48:20.420377Z",
     "iopub.status.busy": "2024-07-08T01:48:20.420377Z",
     "iopub.status.idle": "2024-07-08T01:48:20.637666Z",
     "shell.execute_reply": "2024-07-08T01:48:20.637666Z",
     "shell.execute_reply.started": "2024-07-08T01:48:20.420377Z"
    }
   },
   "outputs": [
    {
     "data": {
      "image/png": "[encoded data removed]",
      "text/plain": [
       "<Figure size 640x480 with 1 Axes>"
      ]
     },
     "metadata": {},
     "output_type": "display_data"
    }
   ],
   "source": [
    "plt.plot(X, X_b @ thetas_update[0], \"g-\")\n",
    "plt.plot(X, y, \"b.\")\n",
    "for theta_ in thetas_update[1::50]:\n",
    "    plt.plot(X, X_b @ theta_, \"r-\")\n",
    "# plt.axis([0, 2, 0, 15])\n",
    "plt.show()"
   ]
  },
  {
   "cell_type": "markdown",
   "id": "2d878151-b183-447b-a8e2-1ad7d8b676ea",
   "metadata": {},
   "source": [
    "<div class=\"alert alert-block alert-info\"><b>Note:</b> that since instances are picked randomly, some instances may be pickedseveral times per epoch, while others may not be picked at all. <br/>If you want to be sure that the algorithm goes through every instance at each epoch, another\n",
    "approach is to <b>shuffle the training set</b> (making sure to shuffle the input\n",
    "features and the labels jointly), then go through it instance by instance, then\n",
    "shuffle it again, and so on. <br/> <b>However, this approach generally converges more\n",
    "slowly</b></div>\n",
    "\n",
    "\n",
    "<div class=\"alert alert-block alert-warning\"><b>Warning:</b> When using SGD, the training instances must be independent and identically distributed (IID) to ensure that the parameters get pulled toward the\n",
    "global optimum, on average. A simple way to ensure this is to shuffle the instances\n",
    "during training (e.g., pick each instance randomly, or shuffle the training set at the beginning of each epoch). If you do not shuffle the instances—for example, if the instances are sorted by label—then SGD will start by optimizing for one label, then the next, and so on, and it will not settle close to the global minimum</div>\n"
   ]
  },
  {
   "cell_type": "code",
   "execution_count": 23,
   "id": "2ad1ba39-202f-48a7-90d9-d71d7581e5bc",
   "metadata": {
    "execution": {
     "iopub.execute_input": "2024-07-08T01:53:39.271108Z",
     "iopub.status.busy": "2024-07-08T01:53:39.270113Z",
     "iopub.status.idle": "2024-07-08T01:53:39.290756Z",
     "shell.execute_reply": "2024-07-08T01:53:39.290756Z",
     "shell.execute_reply.started": "2024-07-08T01:53:39.271108Z"
    }
   },
   "outputs": [
    {
     "data": {
      "text/html": [
       "<style>#sk-container-id-1 {\n",
       "  /* Definition of color scheme common for light and dark mode */\n",
       "  --sklearn-color-text: black;\n",
       "  --sklearn-color-line: gray;\n",
       "  /* Definition of color scheme for unfitted estimators */\n",
       "  --sklearn-color-unfitted-level-0: #fff5e6;\n",
       "  --sklearn-color-unfitted-level-1: #f6e4d2;\n",
       "  --sklearn-color-unfitted-level-2: #ffe0b3;\n",
       "  --sklearn-color-unfitted-level-3: chocolate;\n",
       "  /* Definition of color scheme for fitted estimators */\n",
       "  --sklearn-color-fitted-level-0: #f0f8ff;\n",
       "  --sklearn-color-fitted-level-1: #d4ebff;\n",
       "  --sklearn-color-fitted-level-2: #b3dbfd;\n",
       "  --sklearn-color-fitted-level-3: cornflowerblue;\n",
       "\n",
       "  /* Specific color for light theme */\n",
       "  --sklearn-color-text-on-default-background: var(--sg-text-color, var(--theme-code-foreground, var(--jp-content-font-color1, black)));\n",
       "  --sklearn-color-background: var(--sg-background-color, var(--theme-background, var(--jp-layout-color0, white)));\n",
       "  --sklearn-color-border-box: var(--sg-text-color, var(--theme-code-foreground, var(--jp-content-font-color1, black)));\n",
       "  --sklearn-color-icon: #696969;\n",
       "\n",
       "  @media (prefers-color-scheme: dark) {\n",
       "    /* Redefinition of color scheme for dark theme */\n",
       "    --sklearn-color-text-on-default-background: var(--sg-text-color, var(--theme-code-foreground, var(--jp-content-font-color1, white)));\n",
       "    --sklearn-color-background: var(--sg-background-color, var(--theme-background, var(--jp-layout-color0, #111)));\n",
       "    --sklearn-color-border-box: var(--sg-text-color, var(--theme-code-foreground, var(--jp-content-font-color1, white)));\n",
       "    --sklearn-color-icon: #878787;\n",
       "  }\n",
       "}\n",
       "\n",
       "#sk-container-id-1 {\n",
       "  color: var(--sklearn-color-text);\n",
       "}\n",
       "\n",
       "#sk-container-id-1 pre {\n",
       "  padding: 0;\n",
       "}\n",
       "\n",
       "#sk-container-id-1 input.sk-hidden--visually {\n",
       "  border: 0;\n",
       "  clip: rect(1px 1px 1px 1px);\n",
       "  clip: rect(1px, 1px, 1px, 1px);\n",
       "  height: 1px;\n",
       "  margin: -1px;\n",
       "  overflow: hidden;\n",
       "  padding: 0;\n",
       "  position: absolute;\n",
       "  width: 1px;\n",
       "}\n",
       "\n",
       "#sk-container-id-1 div.sk-dashed-wrapped {\n",
       "  border: 1px dashed var(--sklearn-color-line);\n",
       "  margin: 0 0.4em 0.5em 0.4em;\n",
       "  box-sizing: border-box;\n",
       "  padding-bottom: 0.4em;\n",
       "  background-color: var(--sklearn-color-background);\n",
       "}\n",
       "\n",
       "#sk-container-id-1 div.sk-container {\n",
       "  /* jupyter's `normalize.less` sets `[hidden] { display: none; }`\n",
       "     but bootstrap.min.css set `[hidden] { display: none !important; }`\n",
       "     so we also need the `!important` here to be able to override the\n",
       "     default hidden behavior on the sphinx rendered scikit-learn.org.\n",
       "     See: https://github.com/scikit-learn/scikit-learn/issues/21755 */\n",
       "  display: inline-block !important;\n",
       "  position: relative;\n",
       "}\n",
       "\n",
       "#sk-container-id-1 div.sk-text-repr-fallback {\n",
       "  display: none;\n",
       "}\n",
       "\n",
       "div.sk-parallel-item,\n",
       "div.sk-serial,\n",
       "div.sk-item {\n",
       "  /* draw centered vertical line to link estimators */\n",
       "  background-image: linear-gradient(var(--sklearn-color-text-on-default-background), var(--sklearn-color-text-on-default-background));\n",
       "  background-size: 2px 100%;\n",
       "  background-repeat: no-repeat;\n",
       "  background-position: center center;\n",
       "}\n",
       "\n",
       "/* Parallel-specific style estimator block */\n",
       "\n",
       "#sk-container-id-1 div.sk-parallel-item::after {\n",
       "  content: \"\";\n",
       "  width: 100%;\n",
       "  border-bottom: 2px solid var(--sklearn-color-text-on-default-background);\n",
       "  flex-grow: 1;\n",
       "}\n",
       "\n",
       "#sk-container-id-1 div.sk-parallel {\n",
       "  display: flex;\n",
       "  align-items: stretch;\n",
       "  justify-content: center;\n",
       "  background-color: var(--sklearn-color-background);\n",
       "  position: relative;\n",
       "}\n",
       "\n",
       "#sk-container-id-1 div.sk-parallel-item {\n",
       "  display: flex;\n",
       "  flex-direction: column;\n",
       "}\n",
       "\n",
       "#sk-container-id-1 div.sk-parallel-item:first-child::after {\n",
       "  align-self: flex-end;\n",
       "  width: 50%;\n",
       "}\n",
       "\n",
       "#sk-container-id-1 div.sk-parallel-item:last-child::after {\n",
       "  align-self: flex-start;\n",
       "  width: 50%;\n",
       "}\n",
       "\n",
       "#sk-container-id-1 div.sk-parallel-item:only-child::after {\n",
       "  width: 0;\n",
       "}\n",
       "\n",
       "/* Serial-specific style estimator block */\n",
       "\n",
       "#sk-container-id-1 div.sk-serial {\n",
       "  display: flex;\n",
       "  flex-direction: column;\n",
       "  align-items: center;\n",
       "  background-color: var(--sklearn-color-background);\n",
       "  padding-right: 1em;\n",
       "  padding-left: 1em;\n",
       "}\n",
       "\n",
       "\n",
       "/* Toggleable style: style used for estimator/Pipeline/ColumnTransformer box that is\n",
       "clickable and can be expanded/collapsed.\n",
       "- Pipeline and ColumnTransformer use this feature and define the default style\n",
       "- Estimators will overwrite some part of the style using the `sk-estimator` class\n",
       "*/\n",
       "\n",
       "/* Pipeline and ColumnTransformer style (default) */\n",
       "\n",
       "#sk-container-id-1 div.sk-toggleable {\n",
       "  /* Default theme specific background. It is overwritten whether we have a\n",
       "  specific estimator or a Pipeline/ColumnTransformer */\n",
       "  background-color: var(--sklearn-color-background);\n",
       "}\n",
       "\n",
       "/* Toggleable label */\n",
       "#sk-container-id-1 label.sk-toggleable__label {\n",
       "  cursor: pointer;\n",
       "  display: block;\n",
       "  width: 100%;\n",
       "  margin-bottom: 0;\n",
       "  padding: 0.5em;\n",
       "  box-sizing: border-box;\n",
       "  text-align: center;\n",
       "}\n",
       "\n",
       "#sk-container-id-1 label.sk-toggleable__label-arrow:before {\n",
       "  /* Arrow on the left of the label */\n",
       "  content: \"▸\";\n",
       "  float: left;\n",
       "  margin-right: 0.25em;\n",
       "  color: var(--sklearn-color-icon);\n",
       "}\n",
       "\n",
       "#sk-container-id-1 label.sk-toggleable__label-arrow:hover:before {\n",
       "  color: var(--sklearn-color-text);\n",
       "}\n",
       "\n",
       "/* Toggleable content - dropdown */\n",
       "\n",
       "#sk-container-id-1 div.sk-toggleable__content {\n",
       "  max-height: 0;\n",
       "  max-width: 0;\n",
       "  overflow: hidden;\n",
       "  text-align: left;\n",
       "  /* unfitted */\n",
       "  background-color: var(--sklearn-color-unfitted-level-0);\n",
       "}\n",
       "\n",
       "#sk-container-id-1 div.sk-toggleable__content.fitted {\n",
       "  /* fitted */\n",
       "  background-color: var(--sklearn-color-fitted-level-0);\n",
       "}\n",
       "\n",
       "#sk-container-id-1 div.sk-toggleable__content pre {\n",
       "  margin: 0.2em;\n",
       "  border-radius: 0.25em;\n",
       "  color: var(--sklearn-color-text);\n",
       "  /* unfitted */\n",
       "  background-color: var(--sklearn-color-unfitted-level-0);\n",
       "}\n",
       "\n",
       "#sk-container-id-1 div.sk-toggleable__content.fitted pre {\n",
       "  /* unfitted */\n",
       "  background-color: var(--sklearn-color-fitted-level-0);\n",
       "}\n",
       "\n",
       "#sk-container-id-1 input.sk-toggleable__control:checked~div.sk-toggleable__content {\n",
       "  /* Expand drop-down */\n",
       "  max-height: 200px;\n",
       "  max-width: 100%;\n",
       "  overflow: auto;\n",
       "}\n",
       "\n",
       "#sk-container-id-1 input.sk-toggleable__control:checked~label.sk-toggleable__label-arrow:before {\n",
       "  content: \"▾\";\n",
       "}\n",
       "\n",
       "/* Pipeline/ColumnTransformer-specific style */\n",
       "\n",
       "#sk-container-id-1 div.sk-label input.sk-toggleable__control:checked~label.sk-toggleable__label {\n",
       "  color: var(--sklearn-color-text);\n",
       "  background-color: var(--sklearn-color-unfitted-level-2);\n",
       "}\n",
       "\n",
       "#sk-container-id-1 div.sk-label.fitted input.sk-toggleable__control:checked~label.sk-toggleable__label {\n",
       "  background-color: var(--sklearn-color-fitted-level-2);\n",
       "}\n",
       "\n",
       "/* Estimator-specific style */\n",
       "\n",
       "/* Colorize estimator box */\n",
       "#sk-container-id-1 div.sk-estimator input.sk-toggleable__control:checked~label.sk-toggleable__label {\n",
       "  /* unfitted */\n",
       "  background-color: var(--sklearn-color-unfitted-level-2);\n",
       "}\n",
       "\n",
       "#sk-container-id-1 div.sk-estimator.fitted input.sk-toggleable__control:checked~label.sk-toggleable__label {\n",
       "  /* fitted */\n",
       "  background-color: var(--sklearn-color-fitted-level-2);\n",
       "}\n",
       "\n",
       "#sk-container-id-1 div.sk-label label.sk-toggleable__label,\n",
       "#sk-container-id-1 div.sk-label label {\n",
       "  /* The background is the default theme color */\n",
       "  color: var(--sklearn-color-text-on-default-background);\n",
       "}\n",
       "\n",
       "/* On hover, darken the color of the background */\n",
       "#sk-container-id-1 div.sk-label:hover label.sk-toggleable__label {\n",
       "  color: var(--sklearn-color-text);\n",
       "  background-color: var(--sklearn-color-unfitted-level-2);\n",
       "}\n",
       "\n",
       "/* Label box, darken color on hover, fitted */\n",
       "#sk-container-id-1 div.sk-label.fitted:hover label.sk-toggleable__label.fitted {\n",
       "  color: var(--sklearn-color-text);\n",
       "  background-color: var(--sklearn-color-fitted-level-2);\n",
       "}\n",
       "\n",
       "/* Estimator label */\n",
       "\n",
       "#sk-container-id-1 div.sk-label label {\n",
       "  font-family: monospace;\n",
       "  font-weight: bold;\n",
       "  display: inline-block;\n",
       "  line-height: 1.2em;\n",
       "}\n",
       "\n",
       "#sk-container-id-1 div.sk-label-container {\n",
       "  text-align: center;\n",
       "}\n",
       "\n",
       "/* Estimator-specific */\n",
       "#sk-container-id-1 div.sk-estimator {\n",
       "  font-family: monospace;\n",
       "  border: 1px dotted var(--sklearn-color-border-box);\n",
       "  border-radius: 0.25em;\n",
       "  box-sizing: border-box;\n",
       "  margin-bottom: 0.5em;\n",
       "  /* unfitted */\n",
       "  background-color: var(--sklearn-color-unfitted-level-0);\n",
       "}\n",
       "\n",
       "#sk-container-id-1 div.sk-estimator.fitted {\n",
       "  /* fitted */\n",
       "  background-color: var(--sklearn-color-fitted-level-0);\n",
       "}\n",
       "\n",
       "/* on hover */\n",
       "#sk-container-id-1 div.sk-estimator:hover {\n",
       "  /* unfitted */\n",
       "  background-color: var(--sklearn-color-unfitted-level-2);\n",
       "}\n",
       "\n",
       "#sk-container-id-1 div.sk-estimator.fitted:hover {\n",
       "  /* fitted */\n",
       "  background-color: var(--sklearn-color-fitted-level-2);\n",
       "}\n",
       "\n",
       "/* Specification for estimator info (e.g. \"i\" and \"?\") */\n",
       "\n",
       "/* Common style for \"i\" and \"?\" */\n",
       "\n",
       ".sk-estimator-doc-link,\n",
       "a:link.sk-estimator-doc-link,\n",
       "a:visited.sk-estimator-doc-link {\n",
       "  float: right;\n",
       "  font-size: smaller;\n",
       "  line-height: 1em;\n",
       "  font-family: monospace;\n",
       "  background-color: var(--sklearn-color-background);\n",
       "  border-radius: 1em;\n",
       "  height: 1em;\n",
       "  width: 1em;\n",
       "  text-decoration: none !important;\n",
       "  margin-left: 1ex;\n",
       "  /* unfitted */\n",
       "  border: var(--sklearn-color-unfitted-level-1) 1pt solid;\n",
       "  color: var(--sklearn-color-unfitted-level-1);\n",
       "}\n",
       "\n",
       ".sk-estimator-doc-link.fitted,\n",
       "a:link.sk-estimator-doc-link.fitted,\n",
       "a:visited.sk-estimator-doc-link.fitted {\n",
       "  /* fitted */\n",
       "  border: var(--sklearn-color-fitted-level-1) 1pt solid;\n",
       "  color: var(--sklearn-color-fitted-level-1);\n",
       "}\n",
       "\n",
       "/* On hover */\n",
       "div.sk-estimator:hover .sk-estimator-doc-link:hover,\n",
       ".sk-estimator-doc-link:hover,\n",
       "div.sk-label-container:hover .sk-estimator-doc-link:hover,\n",
       ".sk-estimator-doc-link:hover {\n",
       "  /* unfitted */\n",
       "  background-color: var(--sklearn-color-unfitted-level-3);\n",
       "  color: var(--sklearn-color-background);\n",
       "  text-decoration: none;\n",
       "}\n",
       "\n",
       "div.sk-estimator.fitted:hover .sk-estimator-doc-link.fitted:hover,\n",
       ".sk-estimator-doc-link.fitted:hover,\n",
       "div.sk-label-container:hover .sk-estimator-doc-link.fitted:hover,\n",
       ".sk-estimator-doc-link.fitted:hover {\n",
       "  /* fitted */\n",
       "  background-color: var(--sklearn-color-fitted-level-3);\n",
       "  color: var(--sklearn-color-background);\n",
       "  text-decoration: none;\n",
       "}\n",
       "\n",
       "/* Span, style for the box shown on hovering the info icon */\n",
       ".sk-estimator-doc-link span {\n",
       "  display: none;\n",
       "  z-index: 9999;\n",
       "  position: relative;\n",
       "  font-weight: normal;\n",
       "  right: .2ex;\n",
       "  padding: .5ex;\n",
       "  margin: .5ex;\n",
       "  width: min-content;\n",
       "  min-width: 20ex;\n",
       "  max-width: 50ex;\n",
       "  color: var(--sklearn-color-text);\n",
       "  box-shadow: 2pt 2pt 4pt #999;\n",
       "  /* unfitted */\n",
       "  background: var(--sklearn-color-unfitted-level-0);\n",
       "  border: .5pt solid var(--sklearn-color-unfitted-level-3);\n",
       "}\n",
       "\n",
       ".sk-estimator-doc-link.fitted span {\n",
       "  /* fitted */\n",
       "  background: var(--sklearn-color-fitted-level-0);\n",
       "  border: var(--sklearn-color-fitted-level-3);\n",
       "}\n",
       "\n",
       ".sk-estimator-doc-link:hover span {\n",
       "  display: block;\n",
       "}\n",
       "\n",
       "/* \"?\"-specific style due to the `<a>` HTML tag */\n",
       "\n",
       "#sk-container-id-1 a.estimator_doc_link {\n",
       "  float: right;\n",
       "  font-size: 1rem;\n",
       "  line-height: 1em;\n",
       "  font-family: monospace;\n",
       "  background-color: var(--sklearn-color-background);\n",
       "  border-radius: 1rem;\n",
       "  height: 1rem;\n",
       "  width: 1rem;\n",
       "  text-decoration: none;\n",
       "  /* unfitted */\n",
       "  color: var(--sklearn-color-unfitted-level-1);\n",
       "  border: var(--sklearn-color-unfitted-level-1) 1pt solid;\n",
       "}\n",
       "\n",
       "#sk-container-id-1 a.estimator_doc_link.fitted {\n",
       "  /* fitted */\n",
       "  border: var(--sklearn-color-fitted-level-1) 1pt solid;\n",
       "  color: var(--sklearn-color-fitted-level-1);\n",
       "}\n",
       "\n",
       "/* On hover */\n",
       "#sk-container-id-1 a.estimator_doc_link:hover {\n",
       "  /* unfitted */\n",
       "  background-color: var(--sklearn-color-unfitted-level-3);\n",
       "  color: var(--sklearn-color-background);\n",
       "  text-decoration: none;\n",
       "}\n",
       "\n",
       "#sk-container-id-1 a.estimator_doc_link.fitted:hover {\n",
       "  /* fitted */\n",
       "  background-color: var(--sklearn-color-fitted-level-3);\n",
       "}\n",
       "</style><div id=\"sk-container-id-1\" class=\"sk-top-container\"><div class=\"sk-text-repr-fallback\"><pre>SGDRegressor(eta0=0.1, penalty=None)</pre><b>In a Jupyter environment, please rerun this cell to show the HTML representation or trust the notebook. <br />On GitHub, the HTML representation is unable to render, please try loading this page with nbviewer.org.</b></div><div class=\"sk-container\" hidden><div class=\"sk-item\"><div class=\"sk-estimator fitted sk-toggleable\"><input class=\"sk-toggleable__control sk-hidden--visually\" id=\"sk-estimator-id-1\" type=\"checkbox\" checked><label for=\"sk-estimator-id-1\" class=\"sk-toggleable__label fitted sk-toggleable__label-arrow fitted\">&nbsp;&nbsp;SGDRegressor<a class=\"sk-estimator-doc-link fitted\" rel=\"noreferrer\" target=\"_blank\" href=\"https://scikit-learn.org/1.4/modules/generated/sklearn.linear_model.SGDRegressor.html\">?<span>Documentation for SGDRegressor</span></a><span class=\"sk-estimator-doc-link fitted\">i<span>Fitted</span></span></label><div class=\"sk-toggleable__content fitted\"><pre>SGDRegressor(eta0=0.1, penalty=None)</pre></div> </div></div></div></div>"
      ],
      "text/plain": [
       "SGDRegressor(eta0=0.1, penalty=None)"
      ]
     },
     "execution_count": 23,
     "metadata": {},
     "output_type": "execute_result"
    }
   ],
   "source": [
    "from sklearn.linear_model import SGDRegressor\n",
    "\n",
    "# it run unitl maximum 1,000 epochs || until the loss drops by less than 0.001\n",
    "# penalty=None meanining no regularization\n",
    "# eta is start of learning rate\n",
    "sgd_reg = SGDRegressor(max_iter=1000, tol=1e-3, penalty=None, eta0=0.1)\n",
    "sgd_reg.fit(X, y.ravel())"
   ]
  },
  {
   "cell_type": "code",
   "execution_count": 24,
   "id": "ab02319b-5108-4ff9-af88-e6ddff9b6b4d",
   "metadata": {
    "execution": {
     "iopub.execute_input": "2024-07-08T01:54:17.471784Z",
     "iopub.status.busy": "2024-07-08T01:54:17.471784Z",
     "iopub.status.idle": "2024-07-08T01:54:17.476290Z",
     "shell.execute_reply": "2024-07-08T01:54:17.476290Z",
     "shell.execute_reply.started": "2024-07-08T01:54:17.471784Z"
    }
   },
   "outputs": [
    {
     "data": {
      "text/plain": [
       "(array([3.19404379]), array([3.74158999]))"
      ]
     },
     "execution_count": 24,
     "metadata": {},
     "output_type": "execute_result"
    }
   ],
   "source": [
    "# Once again, you find a solution quite close to the one returned by the Normal Equation\n",
    "sgd_reg.coef_, sgd_reg.intercept_"
   ]
  },
  {
   "cell_type": "markdown",
   "id": "022e513d-1973-43f1-ae02-02b54b6097bb",
   "metadata": {},
   "source": [
    "## Mini-Batch Gradient Descent"
   ]
  },
  {
   "cell_type": "markdown",
   "id": "86fd5ed8-8eda-46ea-be7c-6639fdbb6c2a",
   "metadata": {},
   "source": [
    "### Properties"
   ]
  },
  {
   "cell_type": "markdown",
   "id": "5a44ea10-37a9-4c27-937a-385f52c76236",
   "metadata": {},
   "source": [
    "* computes the gradients on small random sets of instances called __mini-batches__\n",
    "* Compared to ___SGD___:\n",
    "    *  get a performance boost from hardware optimization using GPUs\n",
    "    *  the parameter space is less erratic(irrergular) than with Stochastic GD _espicially with large mini-batches_\n",
    "    *  As a result, Mini-batch GD will end up walking around a bit closer to the minimum than\n",
    "Stochastic GD\n",
    "    * but it may be harder for it to escape from local minima "
   ]
  },
  {
   "cell_type": "markdown",
   "id": "f16b744c-3f3e-41c2-8e4a-f1b7f0c41ef3",
   "metadata": {},
   "source": [
    "## Compare Algorithms"
   ]
  },
  {
   "cell_type": "markdown",
   "id": "a042be0e-a9b8-4f8e-b9b9-206a1c743aab",
   "metadata": {},
   "source": [
    "### Compare Gradients Paths"
   ]
  },
  {
   "cell_type": "markdown",
   "id": "3ab43349-28b6-45b0-b20f-5d284a0d3eb9",
   "metadata": {},
   "source": [
    "* Batch GD’s path actually stops at the minimum\n",
    "*  Stochastic GD and Mini-batch GD continue to walk around\n",
    "*  Batch GD takes a lot of time to take each step\n",
    "*  __Don't Forget__ that Stochastic GD and Mini-batch GD would also reach the minimum if you\n",
    "used a good learning schedule.\n",
    "* Stochastic GD jump around more than Mini-Batch GD\n",
    "\n",
    "<img src=\"./img/compareG.png\" />"
   ]
  },
  {
   "cell_type": "markdown",
   "id": "a8b901f6-6413-4798-8b91-4da51c226455",
   "metadata": {},
   "source": [
    "### Compare All\n",
    "\n",
    "<img src=\"./img/compareAll.png\" />"
   ]
  },
  {
   "cell_type": "markdown",
   "id": "ee5e4ee5-657f-40a5-93e8-30b314bad062",
   "metadata": {},
   "source": [
    "<div class=\"alert alert-block alert-success\"><b>Note:</b>     \n",
    "There is almost no difference after training: all these algorithms end up with very\n",
    "similar models and make predictions in exactly the same way</div>\n"
   ]
  }
 ],
 "metadata": {
  "kernelspec": {
   "display_name": "Python 3 (ipykernel)",
   "language": "python",
   "name": "python3"
  },
  "language_info": {
   "codemirror_mode": {
    "name": "ipython",
    "version": 3
   },
   "file_extension": ".py",
   "mimetype": "text/x-python",
   "name": "python",
   "nbconvert_exporter": "python",
   "pygments_lexer": "ipython3",
   "version": "3.12.2"
  }
 },
 "nbformat": 4,
 "nbformat_minor": 5
}
