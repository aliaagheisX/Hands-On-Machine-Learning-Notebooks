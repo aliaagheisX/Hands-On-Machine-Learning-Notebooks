{
 "cells": [
  {
   "cell_type": "code",
   "execution_count": 1,
   "id": "9d48ddf9-ee31-4691-8148-0fd30f391463",
   "metadata": {
    "execution": {
     "iopub.execute_input": "2024-06-27T12:54:04.097949Z",
     "iopub.status.busy": "2024-06-27T12:54:04.096939Z",
     "iopub.status.idle": "2024-06-27T12:54:13.389767Z",
     "shell.execute_reply": "2024-06-27T12:54:13.388758Z",
     "shell.execute_reply.started": "2024-06-27T12:54:04.097949Z"
    }
   },
   "outputs": [
    {
     "data": {
      "application/desktop-notify+json": {
       "id": "a6f72932-a9e1-45f7-8817-1501d4767b6e",
       "isProcessed": true,
       "payload": {
        "title": null
       },
       "type": "INIT"
      },
      "text/plain": [
       "<jupyterlab_notify.magics._Notification at 0x210bd3d7170>"
      ]
     },
     "metadata": {},
     "output_type": "display_data"
    }
   ],
   "source": [
    "import numpy as np\n",
    "import pandas as pd\n",
    "import matplotlib.pyplot as plt\n",
    "import seaborn as sns\n",
    "%matplotlib inline\n",
    "%load_ext jupyterlab_notify\n",
    "%load_ext autoreload\n",
    "%autoreload 2\n",
    "\n",
    "pd.options.display.max_rows = 100\n",
    "pd.options.display.max_columns = 100"
   ]
  },
  {
   "cell_type": "code",
   "execution_count": 3,
   "id": "4ace1b7a-c453-4098-a7f6-6147ec252617",
   "metadata": {
    "execution": {
     "iopub.execute_input": "2024-06-27T12:54:27.831086Z",
     "iopub.status.busy": "2024-06-27T12:54:27.831086Z",
     "iopub.status.idle": "2024-06-27T12:54:28.150923Z",
     "shell.execute_reply": "2024-06-27T12:54:28.149903Z",
     "shell.execute_reply.started": "2024-06-27T12:54:27.831086Z"
    }
   },
   "outputs": [],
   "source": [
    "from pathlib import Path\n",
    "import urllib.request\n",
    "import zipfile\n",
    "import os\n",
    "from kaggle.api.kaggle_api_extended import KaggleApi\n",
    "from kaggle.api_client import ApiClient\n",
    "\n",
    "\n",
    "def fetch_titanic_dataset():\n",
    "    titanic_path = \"datasets/titanic\"\n",
    "    dataset_path = Path(titanic_path)\n",
    "    # download dataset\n",
    "    if not dataset_path.exists():\n",
    "        api = KaggleApi(ApiClient())\n",
    "        api.authenticate()\n",
    "        \n",
    "        Path(\"datasets\").mkdir(parents=True, exist_ok=True)\n",
    "        api.competition_download_files(\"titanic\", path=\"datasets\")\n",
    "\n",
    "        with zipfile.ZipFile(f\"{titanic_path}.zip\", \"r\") as zip_file:\n",
    "            zip_file.extractall(titanic_path)\n",
    "        \n",
    "    return pd.read_csv(f\"{titanic_path}/train.csv\"), pd.read_csv(f\"{titanic_path}/test.csv\")"
   ]
  },
  {
   "cell_type": "code",
   "execution_count": 4,
   "id": "6227fced-9a02-4c4e-9555-f1630851c6cc",
   "metadata": {
    "execution": {
     "iopub.execute_input": "2024-06-27T12:55:24.862913Z",
     "iopub.status.busy": "2024-06-27T12:55:24.862913Z",
     "iopub.status.idle": "2024-06-27T12:55:25.216641Z",
     "shell.execute_reply": "2024-06-27T12:55:25.215630Z",
     "shell.execute_reply.started": "2024-06-27T12:55:24.862913Z"
    }
   },
   "outputs": [],
   "source": [
    "train_data, test_data = fetch_titanic_dataset()\n",
    "train_data = train_data.set_index(\"PassengerId\")\n",
    "test_data = test_data.set_index(\"PassengerId\")"
   ]
  },
  {
   "cell_type": "code",
   "execution_count": null,
   "id": "c33ecd4c-ad79-4bf2-9934-3058248f82ae",
   "metadata": {},
   "outputs": [],
   "source": []
  },
  {
   "cell_type": "markdown",
   "id": "9e31b2a6-c119-4486-9e5a-fe9e5410c654",
   "metadata": {},
   "source": [
    "# Prepare The Data"
   ]
  },
  {
   "cell_type": "code",
   "execution_count": 8,
   "id": "c568531c-d23a-4706-97a7-86e3f5d5d5ee",
   "metadata": {
    "execution": {
     "iopub.execute_input": "2024-06-27T12:57:25.610603Z",
     "iopub.status.busy": "2024-06-27T12:57:25.609603Z",
     "iopub.status.idle": "2024-06-27T12:57:26.563722Z",
     "shell.execute_reply": "2024-06-27T12:57:26.562714Z",
     "shell.execute_reply.started": "2024-06-27T12:57:25.610603Z"
    }
   },
   "outputs": [],
   "source": [
    "from sklearn.base import BaseEstimator,TransformerMixin\n",
    "from sklearn.compose import ColumnTransformer\n",
    "from sklearn.preprocessing import FunctionTransformer\n",
    "from sklearn.pipeline import Pipeline\n",
    "from sklearn.preprocessing import OneHotEncoder\n",
    "from sklearn.preprocessing import StandardScaler"
   ]
  },
  {
   "cell_type": "markdown",
   "id": "9b776158-082b-4ae9-b882-4ad698017751",
   "metadata": {},
   "source": [
    "- fill __Embarked__ with \"S\"\n",
    "- fill __Age__, __AgeBucket__ using TagName\n",
    "- fill __Fare__ using Pclass\n",
    "- Drop __Cabin__"
   ]
  },
  {
   "cell_type": "code",
   "execution_count": 9,
   "id": "69c1b508-80ce-420d-a51e-88210ca380c5",
   "metadata": {
    "execution": {
     "iopub.execute_input": "2024-06-27T12:57:26.565725Z",
     "iopub.status.busy": "2024-06-27T12:57:26.564725Z",
     "iopub.status.idle": "2024-06-27T12:57:26.919461Z",
     "shell.execute_reply": "2024-06-27T12:57:26.918938Z",
     "shell.execute_reply.started": "2024-06-27T12:57:26.565725Z"
    },
    "scrolled": true
   },
   "outputs": [],
   "source": [
    "# series_groupby = train_data[[\"TagName\", \"AgeBucket\", \"Embarked\"]].groupby(\"TagName\").agg(pd.Series.mode)\n",
    "def fill_na_(X, series_groupby):\n",
    "    X = X.copy(deep=True)\n",
    "    index_colname = series_groupby.index.name\n",
    "    \n",
    "    for index_value in series_groupby.index:\n",
    "        for column_name in series_groupby.columns:\n",
    "            msk = X[index_colname] == index_value\n",
    "            fill_val = series_groupby.loc[index_value, column_name]\n",
    "            X.loc[msk, column_name] = X.loc[msk, column_name].fillna(fill_val)\n",
    "    return X"
   ]
  },
  {
   "cell_type": "code",
   "execution_count": 266,
   "id": "d637f9a5-963c-4504-8a57-cbfeaf50e44c",
   "metadata": {
    "execution": {
     "iopub.execute_input": "2024-06-28T12:27:08.797394Z",
     "iopub.status.busy": "2024-06-28T12:27:08.796122Z",
     "iopub.status.idle": "2024-06-28T12:27:09.070688Z",
     "shell.execute_reply": "2024-06-28T12:27:09.070688Z",
     "shell.execute_reply.started": "2024-06-28T12:27:08.797394Z"
    }
   },
   "outputs": [],
   "source": [
    "def add_tag_name(X, y=None):\n",
    "    X = X.copy(deep=True)\n",
    "    unique_tag_names   = [\"Don\", \"Mme\",  \"Ms\",   \"Major\", \"Lady\", \"Sir\", \"Mlle\", \"Col\", \"Capt\", \"the Countess\", \"Jonkheer\", \"Dona\"]\n",
    "    replaces_tag_names = [\"Mr\",  \"Miss\", \"Miss\", \"Mr\",    \"Miss\", \"Mr\",  \"Miss\", \"Mr\",  \"Mr\",   \"Mrs\",          \"Mr\", \"Miss\"]\n",
    "    X[\"TagName\"] = X[\"Name\"].apply(lambda x :  x[x.find(',')+2: x.find('.')])\n",
    "    X[\"TagName\"] = X[\"TagName\"].replace(dict(zip(unique_tag_names, replaces_tag_names)))\n",
    "    return X\n",
    "\n",
    "\n",
    "def add_age_bucket(X, y=None):\n",
    "    X = X.copy(deep=True)\n",
    "    X[\"AgeBucket\"] = pd.qcut(train_data[\"Age\"], 10, )\n",
    "    return X\n",
    "\n",
    "def add_relatives_count(X, y=None):\n",
    "    X = X.copy(deep=True)\n",
    "    X[\"RelativesCount\"] = X[\"SibSp\"] + X[\"Parch\"]\n",
    "    return X"
   ]
  },
  {
   "cell_type": "code",
   "execution_count": 267,
   "id": "1f6d0d34-7c38-4bab-b327-a2a039d0d5b6",
   "metadata": {
    "execution": {
     "iopub.execute_input": "2024-06-28T12:27:09.120782Z",
     "iopub.status.busy": "2024-06-28T12:27:09.120782Z",
     "iopub.status.idle": "2024-06-28T12:27:09.414957Z",
     "shell.execute_reply": "2024-06-28T12:27:09.413933Z",
     "shell.execute_reply.started": "2024-06-28T12:27:09.120782Z"
    }
   },
   "outputs": [],
   "source": [
    "class TitanicImputer(BaseEstimator, TransformerMixin):\n",
    "    def __init__(self, add_age_bucket = False):\n",
    "        self.add_age_bucket = add_age_bucket\n",
    "        \n",
    "    def fit(self, X, y=None):\n",
    "        # print(X)\n",
    "        self.fare_fill = X[[\"Pclass\", \"Fare\"]].groupby(\"Fare\").median()\n",
    "        if self.add_age_bucket:\n",
    "            self.age_bucket_fill = X[[\"TagName\", \"AgeBucket\"]].groupby(\"TagName\").agg(lambda x : x.value_counts().idxmax())\n",
    "        else:\n",
    "            self.age_fill = X[[\"TagName\", \"Age\"]].groupby(\"TagName\").median()\n",
    "        \n",
    "        return self\n",
    "\n",
    "    def transform(self, X):\n",
    "        X = X.copy(deep=True)\n",
    "        X[\"Embarked\"] = X[\"Embarked\"].fillna(\"S\")\n",
    "\n",
    "        X = fill_na_(X, self.fare_fill)\n",
    "        \n",
    "        if self.add_age_bucket:\n",
    "            X = fill_na_(X, self.age_bucket_fill)\n",
    "        else:\n",
    "            X = fill_na_(X, self.age_fill)\n",
    "            \n",
    "        return X\n",
    "\n"
   ]
  },
  {
   "cell_type": "code",
   "execution_count": 268,
   "id": "9e6ffe18-28d1-4efd-8099-d92ec0ebc985",
   "metadata": {
    "execution": {
     "iopub.execute_input": "2024-06-28T12:27:09.544329Z",
     "iopub.status.busy": "2024-06-28T12:27:09.543821Z",
     "iopub.status.idle": "2024-06-28T12:27:09.831386Z",
     "shell.execute_reply": "2024-06-28T12:27:09.830377Z",
     "shell.execute_reply.started": "2024-06-28T12:27:09.544329Z"
    }
   },
   "outputs": [],
   "source": [
    "cat_columns = ['Pclass', 'TagName', 'Sex', 'Embarked'] #, 'AgeBucket']\n",
    "num_columns = ['SibSp', 'Parch', 'RelativesCount'] #, 'Age']\n",
    "\n",
    "# Add AgeBucket => for numerical clf\n",
    "pipeline_bucket_base = Pipeline([\n",
    "    ('add_tag_name', FunctionTransformer(add_tag_name)),\n",
    "    ('add_age_bucket', FunctionTransformer(add_age_bucket)),\n",
    "    ('add_relatives_count', FunctionTransformer(add_relatives_count)),\n",
    "    ('custom_bucket_imputer', TitanicImputer(add_age_bucket=True)),\n",
    "    ('col_tranform', \n",
    "        ColumnTransformer([\n",
    "            ('num_pipeline', StandardScaler(), num_columns),\n",
    "            ('cat_bucket_pipeline', OneHotEncoder(sparse_output=False), cat_columns + ['AgeBucket']),\n",
    "        ])\n",
    "    )\n",
    "    \n",
    "])\n",
    "\n",
    "# No AgeBucket => for tree classifiers\n",
    "pipeline_nobucket_base = Pipeline([\n",
    "    ('add_tag_name', FunctionTransformer(add_tag_name)),\n",
    "    ('add_relatives_count', FunctionTransformer(add_relatives_count)),\n",
    "    ('custom_bucket_imputer', TitanicImputer(add_age_bucket=False)),\n",
    "    ('col_tranform', \n",
    "         ColumnTransformer([\n",
    "            ('num_pipeline', StandardScaler(), num_columns + ['Age']),\n",
    "            ('cat_pipeline', OneHotEncoder(sparse_output=False), cat_columns),\n",
    "        ])\n",
    "    )\n",
    "])"
   ]
  },
  {
   "cell_type": "code",
   "execution_count": 269,
   "id": "5e552146-09bb-4774-b75a-87e3368a4eeb",
   "metadata": {
    "execution": {
     "iopub.execute_input": "2024-06-28T12:27:09.962002Z",
     "iopub.status.busy": "2024-06-28T12:27:09.960989Z",
     "iopub.status.idle": "2024-06-28T12:27:10.387361Z",
     "shell.execute_reply": "2024-06-28T12:27:10.387361Z",
     "shell.execute_reply.started": "2024-06-28T12:27:09.962002Z"
    },
    "scrolled": true
   },
   "outputs": [
    {
     "data": {
      "text/plain": [
       "(891, 18)"
      ]
     },
     "execution_count": 269,
     "metadata": {},
     "output_type": "execute_result"
    }
   ],
   "source": [
    "pipeline_nobucket_base.fit_transform(train_data).shape"
   ]
  },
  {
   "cell_type": "markdown",
   "id": "7cee07a2-9497-4ecd-a56c-d47d45a3fd3d",
   "metadata": {},
   "source": [
    "- \"TagName\" => 6\n",
    "- \"Sex\" => 2\n",
    "- \"Embarked\" => 3\n",
    "- \"Pclass\" => 3\n",
    "- \"SibSp\" => 1\n",
    "- \"Parch\" => 1\n",
    "- \"RelativesCount\" => 1\n",
    "- \"Age\" => 1"
   ]
  },
  {
   "cell_type": "code",
   "execution_count": 270,
   "id": "074b1e15-692c-429e-ae32-74bdae8aefe6",
   "metadata": {
    "execution": {
     "iopub.execute_input": "2024-06-28T12:27:10.625606Z",
     "iopub.status.busy": "2024-06-28T12:27:10.625606Z",
     "iopub.status.idle": "2024-06-28T12:27:11.025609Z",
     "shell.execute_reply": "2024-06-28T12:27:11.025609Z",
     "shell.execute_reply.started": "2024-06-28T12:27:10.625606Z"
    },
    "scrolled": true
   },
   "outputs": [
    {
     "data": {
      "text/plain": [
       "(891, 27)"
      ]
     },
     "execution_count": 270,
     "metadata": {},
     "output_type": "execute_result"
    }
   ],
   "source": [
    "pipeline_bucket_base.fit_transform(train_data).shape"
   ]
  },
  {
   "cell_type": "markdown",
   "id": "6438bfb3-94a9-479c-be13-35a7ece7d39e",
   "metadata": {},
   "source": [
    "- \"TagName\" => 6\n",
    "- \"Sex\" => 2\n",
    "- \"Embarked\" => 3\n",
    "- \"Pclass\" => 3\n",
    "- \"SibSp\" => 1\n",
    "- \"Parch\" => 1\n",
    "- \"AgeBucket\" => 10"
   ]
  },
  {
   "cell_type": "code",
   "execution_count": 271,
   "id": "c48d1e29-254b-4518-a02c-40291ebd2571",
   "metadata": {
    "execution": {
     "iopub.execute_input": "2024-06-28T12:27:11.079359Z",
     "iopub.status.busy": "2024-06-28T12:27:11.078207Z",
     "iopub.status.idle": "2024-06-28T12:27:11.324839Z",
     "shell.execute_reply": "2024-06-28T12:27:11.324318Z",
     "shell.execute_reply.started": "2024-06-28T12:27:11.079359Z"
    }
   },
   "outputs": [],
   "source": [
    "from sklearn.model_selection import train_test_split"
   ]
  },
  {
   "cell_type": "code",
   "execution_count": 272,
   "id": "e9ef88ed-fb33-47c0-b46b-45af46e6535a",
   "metadata": {
    "execution": {
     "iopub.execute_input": "2024-06-28T12:27:11.357169Z",
     "iopub.status.busy": "2024-06-28T12:27:11.357169Z",
     "iopub.status.idle": "2024-06-28T12:27:11.619438Z",
     "shell.execute_reply": "2024-06-28T12:27:11.619438Z",
     "shell.execute_reply.started": "2024-06-28T12:27:11.357169Z"
    }
   },
   "outputs": [
    {
     "name": "stdout",
     "output_type": "stream",
     "text": [
      "(801,) (90,)\n"
     ]
    }
   ],
   "source": [
    "X, y = train_data.drop(['Survived'], axis=1), train_data[\"Survived\"]\n",
    "X_train, X_test, y_train, y_test = train_test_split(X, y, test_size=0.1, random_state=42)\n",
    "\n",
    "print(y_train.shape, y_test.shape)"
   ]
  },
  {
   "cell_type": "code",
   "execution_count": 273,
   "id": "e028d9f4-09f3-463f-999f-b6d3e54e2804",
   "metadata": {
    "execution": {
     "iopub.execute_input": "2024-06-28T12:27:11.633418Z",
     "iopub.status.busy": "2024-06-28T12:27:11.631416Z",
     "iopub.status.idle": "2024-06-28T12:27:12.444488Z",
     "shell.execute_reply": "2024-06-28T12:27:12.444488Z",
     "shell.execute_reply.started": "2024-06-28T12:27:11.633418Z"
    }
   },
   "outputs": [
    {
     "name": "stdout",
     "output_type": "stream",
     "text": [
      "(801, 18) (90, 18)\n",
      "(801, 27) (90, 27)\n"
     ]
    }
   ],
   "source": [
    "X_train_nobucket = pipeline_nobucket_base.fit_transform(X_train)\n",
    "X_test_nobucket = pipeline_nobucket_base.transform(X_test)\n",
    "\n",
    "X_train_bucket = pipeline_bucket_base.fit_transform(X_train)\n",
    "X_test_bucket  = pipeline_bucket_base.transform(X_test)\n",
    "\n",
    "print(X_train_nobucket.shape, X_test_nobucket.shape)\n",
    "print(X_train_bucket.shape, X_test_bucket.shape)"
   ]
  },
  {
   "cell_type": "code",
   "execution_count": 275,
   "id": "964a8d6c-f1ba-40cf-bf76-1891a80f695a",
   "metadata": {
    "execution": {
     "iopub.execute_input": "2024-06-28T12:27:16.174082Z",
     "iopub.status.busy": "2024-06-28T12:27:16.174082Z",
     "iopub.status.idle": "2024-06-28T12:27:16.733471Z",
     "shell.execute_reply": "2024-06-28T12:27:16.732965Z",
     "shell.execute_reply.started": "2024-06-28T12:27:16.174082Z"
    },
    "scrolled": true
   },
   "outputs": [],
   "source": [
    "X_submit_nobucket = pipeline_nobucket_base.transform(test_data)\n",
    "X_submit_bucket = pipeline_bucket_base.transform(test_data)"
   ]
  },
  {
   "cell_type": "markdown",
   "id": "cd729637-1939-42a2-b9f9-7140da1ea7da",
   "metadata": {},
   "source": [
    "# Shortlist Promising Models"
   ]
  },
  {
   "cell_type": "code",
   "execution_count": 94,
   "id": "c2d8e46c-d9cf-4fd3-87cd-13e4877491a1",
   "metadata": {
    "execution": {
     "iopub.execute_input": "2024-06-27T13:55:45.529794Z",
     "iopub.status.busy": "2024-06-27T13:55:45.528792Z",
     "iopub.status.idle": "2024-06-27T13:55:45.784489Z",
     "shell.execute_reply": "2024-06-27T13:55:45.784489Z",
     "shell.execute_reply.started": "2024-06-27T13:55:45.529794Z"
    }
   },
   "outputs": [],
   "source": [
    "from sklearn.linear_model import LogisticRegression\n",
    "from sklearn.ensemble import RandomForestClassifier, AdaBoostClassifier, GradientBoostingClassifier\n",
    "from sklearn.svm import SVC\n",
    "from sklearn.naive_bayes import GaussianNB\n",
    "from sklearn.neighbors import KNeighborsClassifier\n",
    "from sklearn.neural_network import MLPClassifier\n",
    "from xgboost import XGBClassifier"
   ]
  },
  {
   "cell_type": "code",
   "execution_count": 95,
   "id": "74ffc6b0-cd36-4034-8bfc-57f3862908d6",
   "metadata": {
    "execution": {
     "iopub.execute_input": "2024-06-27T13:55:45.787953Z",
     "iopub.status.busy": "2024-06-27T13:55:45.787953Z",
     "iopub.status.idle": "2024-06-27T13:55:46.061196Z",
     "shell.execute_reply": "2024-06-27T13:55:46.061095Z",
     "shell.execute_reply.started": "2024-06-27T13:55:45.787953Z"
    }
   },
   "outputs": [],
   "source": [
    "from sklearn.model_selection import cross_validate, cross_val_predict, cross_val_score, GridSearchCV"
   ]
  },
  {
   "cell_type": "code",
   "execution_count": 96,
   "id": "4497d0d4-3d0d-404d-9360-ea4281461e30",
   "metadata": {
    "execution": {
     "iopub.execute_input": "2024-06-27T13:55:46.187460Z",
     "iopub.status.busy": "2024-06-27T13:55:46.187460Z",
     "iopub.status.idle": "2024-06-27T13:55:46.447525Z",
     "shell.execute_reply": "2024-06-27T13:55:46.447353Z",
     "shell.execute_reply.started": "2024-06-27T13:55:46.187460Z"
    }
   },
   "outputs": [],
   "source": [
    "models = [RandomForestClassifier(), AdaBoostClassifier(), GradientBoostingClassifier(), XGBClassifier(), LogisticRegression(), SVC(), GaussianNB(), KNeighborsClassifier(), MLPClassifier()]\n",
    "models_names = [\"clf_forest\", \"clf_adaboost\", \"clf_gb\", \"clf_xgb\", \"clf_logistic\", \"clf_svc\", \"clf_bayes\", \"clf_knn\", \"clf_nn\"]\n"
   ]
  },
  {
   "cell_type": "code",
   "execution_count": 97,
   "id": "ec056ea3-88f9-443f-a4ad-9cd56a9da865",
   "metadata": {
    "execution": {
     "iopub.execute_input": "2024-06-27T13:55:46.958004Z",
     "iopub.status.busy": "2024-06-27T13:55:46.958004Z",
     "iopub.status.idle": "2024-06-27T13:55:47.228185Z",
     "shell.execute_reply": "2024-06-27T13:55:47.228185Z",
     "shell.execute_reply.started": "2024-06-27T13:55:46.958004Z"
    }
   },
   "outputs": [],
   "source": [
    "import time"
   ]
  },
  {
   "cell_type": "code",
   "execution_count": 113,
   "id": "75ebb223-0f06-484e-9e32-f53e5607b8c4",
   "metadata": {
    "execution": {
     "iopub.execute_input": "2024-06-27T14:07:33.085294Z",
     "iopub.status.busy": "2024-06-27T14:07:33.085294Z",
     "iopub.status.idle": "2024-06-27T14:07:56.572268Z",
     "shell.execute_reply": "2024-06-27T14:07:56.572268Z",
     "shell.execute_reply.started": "2024-06-27T14:07:33.085294Z"
    },
    "scrolled": true
   },
   "outputs": [
    {
     "name": "stdout",
     "output_type": "stream",
     "text": [
      "=====\t Start clf_forest \t=====\n",
      "[0.81481481 0.7875     0.8        0.8        0.8625     0.7875\n",
      " 0.75       0.7625     0.825      0.7875    ]\n",
      "=====\t time taken:\t 1.4264240264892578sec \t=====\n",
      "=====\t Start clf_adaboost \t=====\n"
     ]
    },
    {
     "name": "stderr",
     "output_type": "stream",
     "text": [
      "C:\\Users\\asusr\\AppData\\Local\\Programs\\Python\\Python312\\Lib\\site-packages\\sklearn\\ensemble\\_weight_boosting.py:519: FutureWarning: The SAMME.R algorithm (the default) is deprecated and will be removed in 1.6. Use the SAMME algorithm to circumvent this warning.\n",
      "  warnings.warn(\n",
      "C:\\Users\\asusr\\AppData\\Local\\Programs\\Python\\Python312\\Lib\\site-packages\\sklearn\\ensemble\\_weight_boosting.py:519: FutureWarning: The SAMME.R algorithm (the default) is deprecated and will be removed in 1.6. Use the SAMME algorithm to circumvent this warning.\n",
      "  warnings.warn(\n",
      "C:\\Users\\asusr\\AppData\\Local\\Programs\\Python\\Python312\\Lib\\site-packages\\sklearn\\ensemble\\_weight_boosting.py:519: FutureWarning: The SAMME.R algorithm (the default) is deprecated and will be removed in 1.6. Use the SAMME algorithm to circumvent this warning.\n",
      "  warnings.warn(\n",
      "C:\\Users\\asusr\\AppData\\Local\\Programs\\Python\\Python312\\Lib\\site-packages\\sklearn\\ensemble\\_weight_boosting.py:519: FutureWarning: The SAMME.R algorithm (the default) is deprecated and will be removed in 1.6. Use the SAMME algorithm to circumvent this warning.\n",
      "  warnings.warn(\n",
      "C:\\Users\\asusr\\AppData\\Local\\Programs\\Python\\Python312\\Lib\\site-packages\\sklearn\\ensemble\\_weight_boosting.py:519: FutureWarning: The SAMME.R algorithm (the default) is deprecated and will be removed in 1.6. Use the SAMME algorithm to circumvent this warning.\n",
      "  warnings.warn(\n",
      "C:\\Users\\asusr\\AppData\\Local\\Programs\\Python\\Python312\\Lib\\site-packages\\sklearn\\ensemble\\_weight_boosting.py:519: FutureWarning: The SAMME.R algorithm (the default) is deprecated and will be removed in 1.6. Use the SAMME algorithm to circumvent this warning.\n",
      "  warnings.warn(\n",
      "C:\\Users\\asusr\\AppData\\Local\\Programs\\Python\\Python312\\Lib\\site-packages\\sklearn\\ensemble\\_weight_boosting.py:519: FutureWarning: The SAMME.R algorithm (the default) is deprecated and will be removed in 1.6. Use the SAMME algorithm to circumvent this warning.\n",
      "  warnings.warn(\n",
      "C:\\Users\\asusr\\AppData\\Local\\Programs\\Python\\Python312\\Lib\\site-packages\\sklearn\\ensemble\\_weight_boosting.py:519: FutureWarning: The SAMME.R algorithm (the default) is deprecated and will be removed in 1.6. Use the SAMME algorithm to circumvent this warning.\n",
      "  warnings.warn(\n",
      "C:\\Users\\asusr\\AppData\\Local\\Programs\\Python\\Python312\\Lib\\site-packages\\sklearn\\ensemble\\_weight_boosting.py:519: FutureWarning: The SAMME.R algorithm (the default) is deprecated and will be removed in 1.6. Use the SAMME algorithm to circumvent this warning.\n",
      "  warnings.warn(\n",
      "C:\\Users\\asusr\\AppData\\Local\\Programs\\Python\\Python312\\Lib\\site-packages\\sklearn\\ensemble\\_weight_boosting.py:519: FutureWarning: The SAMME.R algorithm (the default) is deprecated and will be removed in 1.6. Use the SAMME algorithm to circumvent this warning.\n",
      "  warnings.warn(\n"
     ]
    },
    {
     "name": "stdout",
     "output_type": "stream",
     "text": [
      "[0.81481481 0.8625     0.8125     0.85       0.8625     0.825\n",
      " 0.7625     0.725      0.825      0.825     ]\n",
      "=====\t time taken:\t 0.8020248413085938sec \t=====\n",
      "=====\t Start clf_gb \t=====\n",
      "[0.81481481 0.85       0.85       0.875      0.85       0.8375\n",
      " 0.775      0.775      0.8625     0.8375    ]\n",
      "=====\t time taken:\t 1.1757838726043701sec \t=====\n",
      "=====\t Start clf_xgb \t=====\n",
      "[0.79012346 0.8125     0.825      0.85       0.8625     0.8\n",
      " 0.7875     0.7875     0.8375     0.8375    ]\n",
      "=====\t time taken:\t 0.4324963092803955sec \t=====\n",
      "=====\t Start clf_logistic \t=====\n",
      "[0.83950617 0.85       0.8125     0.9        0.85       0.85\n",
      " 0.725      0.725      0.85       0.8625    ]\n",
      "=====\t time taken:\t 0.15792226791381836sec \t=====\n",
      "=====\t Start clf_svc \t=====\n",
      "[0.83950617 0.85       0.8375     0.8875     0.85       0.8375\n",
      " 0.7875     0.7125     0.8375     0.8125    ]\n",
      "=====\t time taken:\t 0.15697288513183594sec \t=====\n",
      "=====\t Start clf_bayes \t=====\n",
      "[0.56790123 0.4375     0.4625     0.4625     0.45       0.4\n",
      " 0.5        0.5875     0.4625     0.4375    ]\n",
      "=====\t time taken:\t 0.020203113555908203sec \t=====\n",
      "=====\t Start clf_knn \t=====\n",
      "[0.77777778 0.775      0.825      0.9        0.85       0.825\n",
      " 0.7625     0.7        0.875      0.8       ]\n",
      "=====\t time taken:\t 0.08774042129516602sec \t=====\n",
      "=====\t Start clf_nn \t=====\n"
     ]
    },
    {
     "name": "stderr",
     "output_type": "stream",
     "text": [
      "C:\\Users\\asusr\\AppData\\Local\\Programs\\Python\\Python312\\Lib\\site-packages\\sklearn\\neural_network\\_multilayer_perceptron.py:691: ConvergenceWarning: Stochastic Optimizer: Maximum iterations (200) reached and the optimization hasn't converged yet.\n",
      "  warnings.warn(\n",
      "C:\\Users\\asusr\\AppData\\Local\\Programs\\Python\\Python312\\Lib\\site-packages\\sklearn\\neural_network\\_multilayer_perceptron.py:691: ConvergenceWarning: Stochastic Optimizer: Maximum iterations (200) reached and the optimization hasn't converged yet.\n",
      "  warnings.warn(\n",
      "C:\\Users\\asusr\\AppData\\Local\\Programs\\Python\\Python312\\Lib\\site-packages\\sklearn\\neural_network\\_multilayer_perceptron.py:691: ConvergenceWarning: Stochastic Optimizer: Maximum iterations (200) reached and the optimization hasn't converged yet.\n",
      "  warnings.warn(\n",
      "C:\\Users\\asusr\\AppData\\Local\\Programs\\Python\\Python312\\Lib\\site-packages\\sklearn\\neural_network\\_multilayer_perceptron.py:691: ConvergenceWarning: Stochastic Optimizer: Maximum iterations (200) reached and the optimization hasn't converged yet.\n",
      "  warnings.warn(\n",
      "C:\\Users\\asusr\\AppData\\Local\\Programs\\Python\\Python312\\Lib\\site-packages\\sklearn\\neural_network\\_multilayer_perceptron.py:691: ConvergenceWarning: Stochastic Optimizer: Maximum iterations (200) reached and the optimization hasn't converged yet.\n",
      "  warnings.warn(\n",
      "C:\\Users\\asusr\\AppData\\Local\\Programs\\Python\\Python312\\Lib\\site-packages\\sklearn\\neural_network\\_multilayer_perceptron.py:691: ConvergenceWarning: Stochastic Optimizer: Maximum iterations (200) reached and the optimization hasn't converged yet.\n",
      "  warnings.warn(\n",
      "C:\\Users\\asusr\\AppData\\Local\\Programs\\Python\\Python312\\Lib\\site-packages\\sklearn\\neural_network\\_multilayer_perceptron.py:691: ConvergenceWarning: Stochastic Optimizer: Maximum iterations (200) reached and the optimization hasn't converged yet.\n",
      "  warnings.warn(\n",
      "C:\\Users\\asusr\\AppData\\Local\\Programs\\Python\\Python312\\Lib\\site-packages\\sklearn\\neural_network\\_multilayer_perceptron.py:691: ConvergenceWarning: Stochastic Optimizer: Maximum iterations (200) reached and the optimization hasn't converged yet.\n",
      "  warnings.warn(\n",
      "C:\\Users\\asusr\\AppData\\Local\\Programs\\Python\\Python312\\Lib\\site-packages\\sklearn\\neural_network\\_multilayer_perceptron.py:691: ConvergenceWarning: Stochastic Optimizer: Maximum iterations (200) reached and the optimization hasn't converged yet.\n",
      "  warnings.warn(\n",
      "C:\\Users\\asusr\\AppData\\Local\\Programs\\Python\\Python312\\Lib\\site-packages\\sklearn\\neural_network\\_multilayer_perceptron.py:691: ConvergenceWarning: Stochastic Optimizer: Maximum iterations (200) reached and the optimization hasn't converged yet.\n",
      "  warnings.warn(\n"
     ]
    },
    {
     "name": "stdout",
     "output_type": "stream",
     "text": [
      "[0.81481481 0.85       0.8375     0.9125     0.85       0.85\n",
      " 0.7375     0.725      0.8625     0.8125    ]\n",
      "=====\t time taken:\t 7.014635324478149sec \t=====\n",
      "=====\t Start clf_forest_bucket \t=====\n",
      "[0.82716049 0.825      0.85       0.85       0.8375     0.775\n",
      " 0.7625     0.7375     0.825      0.8       ]\n",
      "=====\t time taken:\t 1.4463014602661133sec \t=====\n",
      "=====\t Start clf_adaboost_bucket \t=====\n"
     ]
    },
    {
     "name": "stderr",
     "output_type": "stream",
     "text": [
      "C:\\Users\\asusr\\AppData\\Local\\Programs\\Python\\Python312\\Lib\\site-packages\\sklearn\\ensemble\\_weight_boosting.py:519: FutureWarning: The SAMME.R algorithm (the default) is deprecated and will be removed in 1.6. Use the SAMME algorithm to circumvent this warning.\n",
      "  warnings.warn(\n",
      "C:\\Users\\asusr\\AppData\\Local\\Programs\\Python\\Python312\\Lib\\site-packages\\sklearn\\ensemble\\_weight_boosting.py:519: FutureWarning: The SAMME.R algorithm (the default) is deprecated and will be removed in 1.6. Use the SAMME algorithm to circumvent this warning.\n",
      "  warnings.warn(\n",
      "C:\\Users\\asusr\\AppData\\Local\\Programs\\Python\\Python312\\Lib\\site-packages\\sklearn\\ensemble\\_weight_boosting.py:519: FutureWarning: The SAMME.R algorithm (the default) is deprecated and will be removed in 1.6. Use the SAMME algorithm to circumvent this warning.\n",
      "  warnings.warn(\n",
      "C:\\Users\\asusr\\AppData\\Local\\Programs\\Python\\Python312\\Lib\\site-packages\\sklearn\\ensemble\\_weight_boosting.py:519: FutureWarning: The SAMME.R algorithm (the default) is deprecated and will be removed in 1.6. Use the SAMME algorithm to circumvent this warning.\n",
      "  warnings.warn(\n",
      "C:\\Users\\asusr\\AppData\\Local\\Programs\\Python\\Python312\\Lib\\site-packages\\sklearn\\ensemble\\_weight_boosting.py:519: FutureWarning: The SAMME.R algorithm (the default) is deprecated and will be removed in 1.6. Use the SAMME algorithm to circumvent this warning.\n",
      "  warnings.warn(\n",
      "C:\\Users\\asusr\\AppData\\Local\\Programs\\Python\\Python312\\Lib\\site-packages\\sklearn\\ensemble\\_weight_boosting.py:519: FutureWarning: The SAMME.R algorithm (the default) is deprecated and will be removed in 1.6. Use the SAMME algorithm to circumvent this warning.\n",
      "  warnings.warn(\n",
      "C:\\Users\\asusr\\AppData\\Local\\Programs\\Python\\Python312\\Lib\\site-packages\\sklearn\\ensemble\\_weight_boosting.py:519: FutureWarning: The SAMME.R algorithm (the default) is deprecated and will be removed in 1.6. Use the SAMME algorithm to circumvent this warning.\n",
      "  warnings.warn(\n",
      "C:\\Users\\asusr\\AppData\\Local\\Programs\\Python\\Python312\\Lib\\site-packages\\sklearn\\ensemble\\_weight_boosting.py:519: FutureWarning: The SAMME.R algorithm (the default) is deprecated and will be removed in 1.6. Use the SAMME algorithm to circumvent this warning.\n",
      "  warnings.warn(\n",
      "C:\\Users\\asusr\\AppData\\Local\\Programs\\Python\\Python312\\Lib\\site-packages\\sklearn\\ensemble\\_weight_boosting.py:519: FutureWarning: The SAMME.R algorithm (the default) is deprecated and will be removed in 1.6. Use the SAMME algorithm to circumvent this warning.\n",
      "  warnings.warn(\n",
      "C:\\Users\\asusr\\AppData\\Local\\Programs\\Python\\Python312\\Lib\\site-packages\\sklearn\\ensemble\\_weight_boosting.py:519: FutureWarning: The SAMME.R algorithm (the default) is deprecated and will be removed in 1.6. Use the SAMME algorithm to circumvent this warning.\n",
      "  warnings.warn(\n"
     ]
    },
    {
     "name": "stdout",
     "output_type": "stream",
     "text": [
      "[0.82716049 0.85       0.8125     0.8375     0.8375     0.85\n",
      " 0.7625     0.7        0.825      0.825     ]\n",
      "=====\t time taken:\t 0.8625578880310059sec \t=====\n",
      "=====\t Start clf_gb_bucket \t=====\n",
      "[0.81481481 0.8375     0.8375     0.875      0.85       0.8125\n",
      " 0.75       0.7625     0.85       0.825     ]\n",
      "=====\t time taken:\t 1.2004656791687012sec \t=====\n",
      "=====\t Start clf_xgb_bucket \t=====\n",
      "[0.82716049 0.8        0.8375     0.8875     0.8375     0.7875\n",
      " 0.7375     0.75       0.8625     0.7875    ]\n",
      "=====\t time taken:\t 0.44693899154663086sec \t=====\n",
      "=====\t Start clf_logistic_bucket \t=====\n",
      "[0.85185185 0.8375     0.8125     0.8875     0.85       0.85\n",
      " 0.7375     0.7375     0.85       0.85      ]\n",
      "=====\t time taken:\t 0.1484053134918213sec \t=====\n",
      "=====\t Start clf_svc_bucket \t=====\n",
      "[0.83950617 0.85       0.825      0.9        0.8375     0.8375\n",
      " 0.775      0.7125     0.85       0.8125    ]\n",
      "=====\t time taken:\t 0.18436360359191895sec \t=====\n",
      "=====\t Start clf_bayes_bucket \t=====\n",
      "[0.56790123 0.475      0.6125     0.6        0.5625     0.625\n",
      " 0.475      0.5875     0.575      0.6375    ]\n",
      "=====\t time taken:\t 0.025403976440429688sec \t=====\n",
      "=====\t Start clf_knn_bucket \t=====\n",
      "[0.81481481 0.8125     0.8375     0.8625     0.8375     0.7875\n",
      " 0.75       0.7        0.8375     0.7625    ]\n",
      "=====\t time taken:\t 0.08168911933898926sec \t=====\n",
      "=====\t Start clf_nn_bucket \t=====\n"
     ]
    },
    {
     "name": "stderr",
     "output_type": "stream",
     "text": [
      "C:\\Users\\asusr\\AppData\\Local\\Programs\\Python\\Python312\\Lib\\site-packages\\sklearn\\neural_network\\_multilayer_perceptron.py:691: ConvergenceWarning: Stochastic Optimizer: Maximum iterations (200) reached and the optimization hasn't converged yet.\n",
      "  warnings.warn(\n",
      "C:\\Users\\asusr\\AppData\\Local\\Programs\\Python\\Python312\\Lib\\site-packages\\sklearn\\neural_network\\_multilayer_perceptron.py:691: ConvergenceWarning: Stochastic Optimizer: Maximum iterations (200) reached and the optimization hasn't converged yet.\n",
      "  warnings.warn(\n",
      "C:\\Users\\asusr\\AppData\\Local\\Programs\\Python\\Python312\\Lib\\site-packages\\sklearn\\neural_network\\_multilayer_perceptron.py:691: ConvergenceWarning: Stochastic Optimizer: Maximum iterations (200) reached and the optimization hasn't converged yet.\n",
      "  warnings.warn(\n",
      "C:\\Users\\asusr\\AppData\\Local\\Programs\\Python\\Python312\\Lib\\site-packages\\sklearn\\neural_network\\_multilayer_perceptron.py:691: ConvergenceWarning: Stochastic Optimizer: Maximum iterations (200) reached and the optimization hasn't converged yet.\n",
      "  warnings.warn(\n",
      "C:\\Users\\asusr\\AppData\\Local\\Programs\\Python\\Python312\\Lib\\site-packages\\sklearn\\neural_network\\_multilayer_perceptron.py:691: ConvergenceWarning: Stochastic Optimizer: Maximum iterations (200) reached and the optimization hasn't converged yet.\n",
      "  warnings.warn(\n",
      "C:\\Users\\asusr\\AppData\\Local\\Programs\\Python\\Python312\\Lib\\site-packages\\sklearn\\neural_network\\_multilayer_perceptron.py:691: ConvergenceWarning: Stochastic Optimizer: Maximum iterations (200) reached and the optimization hasn't converged yet.\n",
      "  warnings.warn(\n",
      "C:\\Users\\asusr\\AppData\\Local\\Programs\\Python\\Python312\\Lib\\site-packages\\sklearn\\neural_network\\_multilayer_perceptron.py:691: ConvergenceWarning: Stochastic Optimizer: Maximum iterations (200) reached and the optimization hasn't converged yet.\n",
      "  warnings.warn(\n",
      "C:\\Users\\asusr\\AppData\\Local\\Programs\\Python\\Python312\\Lib\\site-packages\\sklearn\\neural_network\\_multilayer_perceptron.py:691: ConvergenceWarning: Stochastic Optimizer: Maximum iterations (200) reached and the optimization hasn't converged yet.\n",
      "  warnings.warn(\n",
      "C:\\Users\\asusr\\AppData\\Local\\Programs\\Python\\Python312\\Lib\\site-packages\\sklearn\\neural_network\\_multilayer_perceptron.py:691: ConvergenceWarning: Stochastic Optimizer: Maximum iterations (200) reached and the optimization hasn't converged yet.\n",
      "  warnings.warn(\n"
     ]
    },
    {
     "name": "stdout",
     "output_type": "stream",
     "text": [
      "[0.81481481 0.85       0.8625     0.9        0.8375     0.85\n",
      " 0.7375     0.7375     0.85       0.7875    ]\n",
      "=====\t time taken:\t 7.550053358078003sec \t=====\n"
     ]
    },
    {
     "name": "stderr",
     "output_type": "stream",
     "text": [
      "C:\\Users\\asusr\\AppData\\Local\\Programs\\Python\\Python312\\Lib\\site-packages\\sklearn\\neural_network\\_multilayer_perceptron.py:691: ConvergenceWarning: Stochastic Optimizer: Maximum iterations (200) reached and the optimization hasn't converged yet.\n",
      "  warnings.warn(\n"
     ]
    }
   ],
   "source": [
    "cv_scores = {}\n",
    "\n",
    "for include_bucket in range(2):\n",
    "    for i, model in enumerate(models):\n",
    "        model_name = models_names[i] if not include_bucket else models_names[i] + \"_bucket\"\n",
    "        X_ = X_train_nobucket if not include_bucket else X_train_bucket\n",
    "        \n",
    "        tick = time.time()\n",
    "        print(f\"=====\\t Start {model_name} \\t=====\")\n",
    "        \n",
    "        cv_scores[model_name] = cross_val_score(model, X_, y_train, cv = 10, scoring=\"accuracy\")\n",
    "        \n",
    "        print(cv_scores[model_name])\n",
    "        print(f\"=====\\t time taken:\\t {time.time() - tick}sec \\t=====\")"
   ]
  },
  {
   "cell_type": "code",
   "execution_count": 114,
   "id": "c9cbb1f6-c4a9-4cff-88cb-44db5a2a2d27",
   "metadata": {
    "execution": {
     "iopub.execute_input": "2024-06-27T14:07:58.521732Z",
     "iopub.status.busy": "2024-06-27T14:07:58.520734Z",
     "iopub.status.idle": "2024-06-27T14:07:59.611967Z",
     "shell.execute_reply": "2024-06-27T14:07:59.611967Z",
     "shell.execute_reply.started": "2024-06-27T14:07:58.521732Z"
    }
   },
   "outputs": [
    {
     "data": {
      "image/png": "[encoded data removed]",
      "text/plain": [
       "<Figure size 1000x600 with 1 Axes>"
      ]
     },
     "metadata": {},
     "output_type": "display_data"
    }
   ],
   "source": [
    "# sort dataframe base on model names\n",
    "cv_scores_df = pd.DataFrame(cv_scores)\n",
    "cv_scores_df = cv_scores_df.reindex(sorted(cv_scores_df.columns), axis=1)\n",
    "\n",
    "plt.figure(figsize=(10, 6))\n",
    "sns.boxplot(data=cv_scores_df)\n",
    "plt.xticks(rotation=90)  \n",
    "plt.show()"
   ]
  },
  {
   "cell_type": "code",
   "execution_count": 115,
   "id": "01a4b458-9c0f-4d2e-95ea-3d18b6f93712",
   "metadata": {
    "execution": {
     "iopub.execute_input": "2024-06-27T14:07:59.617376Z",
     "iopub.status.busy": "2024-06-27T14:07:59.617376Z",
     "iopub.status.idle": "2024-06-27T14:07:59.893667Z",
     "shell.execute_reply": "2024-06-27T14:07:59.892658Z",
     "shell.execute_reply.started": "2024-06-27T14:07:59.617376Z"
    }
   },
   "outputs": [
    {
     "data": {
      "text/html": [
       "<div>\n",
       "<style scoped>\n",
       "    .dataframe tbody tr th:only-of-type {\n",
       "        vertical-align: middle;\n",
       "    }\n",
       "\n",
       "    .dataframe tbody tr th {\n",
       "        vertical-align: top;\n",
       "    }\n",
       "\n",
       "    .dataframe thead th {\n",
       "        text-align: right;\n",
       "    }\n",
       "</style>\n",
       "<table border=\"1\" class=\"dataframe\">\n",
       "  <thead>\n",
       "    <tr style=\"text-align: right;\">\n",
       "      <th></th>\n",
       "      <th>clf_gb</th>\n",
       "      <th>clf_logistic</th>\n",
       "      <th>clf_logistic_bucket</th>\n",
       "      <th>clf_nn</th>\n",
       "      <th>clf_svc</th>\n",
       "      <th>clf_svc_bucket</th>\n",
       "      <th>clf_nn_bucket</th>\n",
       "      <th>clf_gb_bucket</th>\n",
       "      <th>clf_xgb</th>\n",
       "      <th>clf_adaboost</th>\n",
       "      <th>clf_adaboost_bucket</th>\n",
       "      <th>clf_xgb_bucket</th>\n",
       "      <th>clf_knn</th>\n",
       "      <th>clf_forest_bucket</th>\n",
       "      <th>clf_knn_bucket</th>\n",
       "      <th>clf_forest</th>\n",
       "      <th>clf_bayes_bucket</th>\n",
       "      <th>clf_bayes</th>\n",
       "    </tr>\n",
       "  </thead>\n",
       "  <tbody>\n",
       "    <tr>\n",
       "      <th>count</th>\n",
       "      <td>10.000000</td>\n",
       "      <td>10.000000</td>\n",
       "      <td>10.000000</td>\n",
       "      <td>10.000000</td>\n",
       "      <td>10.000000</td>\n",
       "      <td>10.000000</td>\n",
       "      <td>10.000000</td>\n",
       "      <td>10.000000</td>\n",
       "      <td>10.000000</td>\n",
       "      <td>10.000000</td>\n",
       "      <td>10.000000</td>\n",
       "      <td>10.000000</td>\n",
       "      <td>10.000000</td>\n",
       "      <td>10.000000</td>\n",
       "      <td>10.000000</td>\n",
       "      <td>10.000000</td>\n",
       "      <td>10.000000</td>\n",
       "      <td>10.000000</td>\n",
       "    </tr>\n",
       "    <tr>\n",
       "      <th>mean</th>\n",
       "      <td>0.832731</td>\n",
       "      <td>0.826451</td>\n",
       "      <td>0.826435</td>\n",
       "      <td>0.825231</td>\n",
       "      <td>0.825201</td>\n",
       "      <td>0.823951</td>\n",
       "      <td>0.822731</td>\n",
       "      <td>0.821481</td>\n",
       "      <td>0.819012</td>\n",
       "      <td>0.816481</td>\n",
       "      <td>0.812716</td>\n",
       "      <td>0.811466</td>\n",
       "      <td>0.809028</td>\n",
       "      <td>0.808966</td>\n",
       "      <td>0.800231</td>\n",
       "      <td>0.797731</td>\n",
       "      <td>0.571790</td>\n",
       "      <td>0.476790</td>\n",
       "    </tr>\n",
       "    <tr>\n",
       "      <th>std</th>\n",
       "      <td>0.034318</td>\n",
       "      <td>0.057616</td>\n",
       "      <td>0.050257</td>\n",
       "      <td>0.056774</td>\n",
       "      <td>0.047204</td>\n",
       "      <td>0.050221</td>\n",
       "      <td>0.053576</td>\n",
       "      <td>0.039058</td>\n",
       "      <td>0.027478</td>\n",
       "      <td>0.043305</td>\n",
       "      <td>0.046840</td>\n",
       "      <td>0.047746</td>\n",
       "      <td>0.058770</td>\n",
       "      <td>0.038769</td>\n",
       "      <td>0.050070</td>\n",
       "      <td>0.031753</td>\n",
       "      <td>0.056468</td>\n",
       "      <td>0.059077</td>\n",
       "    </tr>\n",
       "    <tr>\n",
       "      <th>min</th>\n",
       "      <td>0.775000</td>\n",
       "      <td>0.725000</td>\n",
       "      <td>0.737500</td>\n",
       "      <td>0.725000</td>\n",
       "      <td>0.712500</td>\n",
       "      <td>0.712500</td>\n",
       "      <td>0.737500</td>\n",
       "      <td>0.750000</td>\n",
       "      <td>0.787500</td>\n",
       "      <td>0.725000</td>\n",
       "      <td>0.700000</td>\n",
       "      <td>0.737500</td>\n",
       "      <td>0.700000</td>\n",
       "      <td>0.737500</td>\n",
       "      <td>0.700000</td>\n",
       "      <td>0.750000</td>\n",
       "      <td>0.475000</td>\n",
       "      <td>0.400000</td>\n",
       "    </tr>\n",
       "    <tr>\n",
       "      <th>25%</th>\n",
       "      <td>0.820486</td>\n",
       "      <td>0.819252</td>\n",
       "      <td>0.818750</td>\n",
       "      <td>0.813079</td>\n",
       "      <td>0.818750</td>\n",
       "      <td>0.815625</td>\n",
       "      <td>0.794329</td>\n",
       "      <td>0.813079</td>\n",
       "      <td>0.792593</td>\n",
       "      <td>0.813079</td>\n",
       "      <td>0.815625</td>\n",
       "      <td>0.787500</td>\n",
       "      <td>0.775694</td>\n",
       "      <td>0.781250</td>\n",
       "      <td>0.768750</td>\n",
       "      <td>0.787500</td>\n",
       "      <td>0.563850</td>\n",
       "      <td>0.440625</td>\n",
       "    </tr>\n",
       "    <tr>\n",
       "      <th>50%</th>\n",
       "      <td>0.843750</td>\n",
       "      <td>0.850000</td>\n",
       "      <td>0.850000</td>\n",
       "      <td>0.843750</td>\n",
       "      <td>0.837500</td>\n",
       "      <td>0.837500</td>\n",
       "      <td>0.843750</td>\n",
       "      <td>0.831250</td>\n",
       "      <td>0.818750</td>\n",
       "      <td>0.825000</td>\n",
       "      <td>0.826080</td>\n",
       "      <td>0.813580</td>\n",
       "      <td>0.812500</td>\n",
       "      <td>0.825000</td>\n",
       "      <td>0.813657</td>\n",
       "      <td>0.793750</td>\n",
       "      <td>0.581250</td>\n",
       "      <td>0.462500</td>\n",
       "    </tr>\n",
       "    <tr>\n",
       "      <th>75%</th>\n",
       "      <td>0.850000</td>\n",
       "      <td>0.850000</td>\n",
       "      <td>0.850000</td>\n",
       "      <td>0.850000</td>\n",
       "      <td>0.847377</td>\n",
       "      <td>0.847377</td>\n",
       "      <td>0.850000</td>\n",
       "      <td>0.846875</td>\n",
       "      <td>0.837500</td>\n",
       "      <td>0.843750</td>\n",
       "      <td>0.837500</td>\n",
       "      <td>0.837500</td>\n",
       "      <td>0.843750</td>\n",
       "      <td>0.834915</td>\n",
       "      <td>0.837500</td>\n",
       "      <td>0.811111</td>\n",
       "      <td>0.609375</td>\n",
       "      <td>0.490625</td>\n",
       "    </tr>\n",
       "    <tr>\n",
       "      <th>max</th>\n",
       "      <td>0.875000</td>\n",
       "      <td>0.900000</td>\n",
       "      <td>0.887500</td>\n",
       "      <td>0.912500</td>\n",
       "      <td>0.887500</td>\n",
       "      <td>0.900000</td>\n",
       "      <td>0.900000</td>\n",
       "      <td>0.875000</td>\n",
       "      <td>0.862500</td>\n",
       "      <td>0.862500</td>\n",
       "      <td>0.850000</td>\n",
       "      <td>0.887500</td>\n",
       "      <td>0.900000</td>\n",
       "      <td>0.850000</td>\n",
       "      <td>0.862500</td>\n",
       "      <td>0.862500</td>\n",
       "      <td>0.637500</td>\n",
       "      <td>0.587500</td>\n",
       "    </tr>\n",
       "  </tbody>\n",
       "</table>\n",
       "</div>"
      ],
      "text/plain": [
       "          clf_gb  clf_logistic  clf_logistic_bucket     clf_nn    clf_svc  \\\n",
       "count  10.000000     10.000000            10.000000  10.000000  10.000000   \n",
       "mean    0.832731      0.826451             0.826435   0.825231   0.825201   \n",
       "std     0.034318      0.057616             0.050257   0.056774   0.047204   \n",
       "min     0.775000      0.725000             0.737500   0.725000   0.712500   \n",
       "25%     0.820486      0.819252             0.818750   0.813079   0.818750   \n",
       "50%     0.843750      0.850000             0.850000   0.843750   0.837500   \n",
       "75%     0.850000      0.850000             0.850000   0.850000   0.847377   \n",
       "max     0.875000      0.900000             0.887500   0.912500   0.887500   \n",
       "\n",
       "       clf_svc_bucket  clf_nn_bucket  clf_gb_bucket    clf_xgb  clf_adaboost  \\\n",
       "count       10.000000      10.000000      10.000000  10.000000     10.000000   \n",
       "mean         0.823951       0.822731       0.821481   0.819012      0.816481   \n",
       "std          0.050221       0.053576       0.039058   0.027478      0.043305   \n",
       "min          0.712500       0.737500       0.750000   0.787500      0.725000   \n",
       "25%          0.815625       0.794329       0.813079   0.792593      0.813079   \n",
       "50%          0.837500       0.843750       0.831250   0.818750      0.825000   \n",
       "75%          0.847377       0.850000       0.846875   0.837500      0.843750   \n",
       "max          0.900000       0.900000       0.875000   0.862500      0.862500   \n",
       "\n",
       "       clf_adaboost_bucket  clf_xgb_bucket    clf_knn  clf_forest_bucket  \\\n",
       "count            10.000000       10.000000  10.000000          10.000000   \n",
       "mean              0.812716        0.811466   0.809028           0.808966   \n",
       "std               0.046840        0.047746   0.058770           0.038769   \n",
       "min               0.700000        0.737500   0.700000           0.737500   \n",
       "25%               0.815625        0.787500   0.775694           0.781250   \n",
       "50%               0.826080        0.813580   0.812500           0.825000   \n",
       "75%               0.837500        0.837500   0.843750           0.834915   \n",
       "max               0.850000        0.887500   0.900000           0.850000   \n",
       "\n",
       "       clf_knn_bucket  clf_forest  clf_bayes_bucket  clf_bayes  \n",
       "count       10.000000   10.000000         10.000000  10.000000  \n",
       "mean         0.800231    0.797731          0.571790   0.476790  \n",
       "std          0.050070    0.031753          0.056468   0.059077  \n",
       "min          0.700000    0.750000          0.475000   0.400000  \n",
       "25%          0.768750    0.787500          0.563850   0.440625  \n",
       "50%          0.813657    0.793750          0.581250   0.462500  \n",
       "75%          0.837500    0.811111          0.609375   0.490625  \n",
       "max          0.862500    0.862500          0.637500   0.587500  "
      ]
     },
     "execution_count": 115,
     "metadata": {},
     "output_type": "execute_result"
    }
   ],
   "source": [
    "cv_scores_df.describe().sort_values(by='mean', axis=1, ascending=False)"
   ]
  },
  {
   "cell_type": "code",
   "execution_count": 118,
   "id": "ecbf205d-4c9e-4764-9245-ae987288a697",
   "metadata": {
    "execution": {
     "iopub.execute_input": "2024-06-27T14:10:45.465525Z",
     "iopub.status.busy": "2024-06-27T14:10:45.465525Z",
     "iopub.status.idle": "2024-06-27T14:10:45.765829Z",
     "shell.execute_reply": "2024-06-27T14:10:45.764818Z",
     "shell.execute_reply.started": "2024-06-27T14:10:45.465525Z"
    }
   },
   "outputs": [
    {
     "data": {
      "text/html": [
       "<div>\n",
       "<style scoped>\n",
       "    .dataframe tbody tr th:only-of-type {\n",
       "        vertical-align: middle;\n",
       "    }\n",
       "\n",
       "    .dataframe tbody tr th {\n",
       "        vertical-align: top;\n",
       "    }\n",
       "\n",
       "    .dataframe thead th {\n",
       "        text-align: right;\n",
       "    }\n",
       "</style>\n",
       "<table border=\"1\" class=\"dataframe\">\n",
       "  <thead>\n",
       "    <tr style=\"text-align: right;\">\n",
       "      <th></th>\n",
       "      <th>clf_logistic</th>\n",
       "      <th>clf_logistic_bucket</th>\n",
       "      <th>clf_nn</th>\n",
       "      <th>clf_gb</th>\n",
       "      <th>clf_nn_bucket</th>\n",
       "      <th>clf_svc_bucket</th>\n",
       "      <th>clf_svc</th>\n",
       "      <th>clf_gb_bucket</th>\n",
       "      <th>clf_adaboost_bucket</th>\n",
       "      <th>clf_adaboost</th>\n",
       "      <th>clf_forest_bucket</th>\n",
       "      <th>clf_xgb</th>\n",
       "      <th>clf_knn_bucket</th>\n",
       "      <th>clf_xgb_bucket</th>\n",
       "      <th>clf_knn</th>\n",
       "      <th>clf_forest</th>\n",
       "      <th>clf_bayes_bucket</th>\n",
       "      <th>clf_bayes</th>\n",
       "    </tr>\n",
       "  </thead>\n",
       "  <tbody>\n",
       "    <tr>\n",
       "      <th>count</th>\n",
       "      <td>10.000000</td>\n",
       "      <td>10.000000</td>\n",
       "      <td>10.000000</td>\n",
       "      <td>10.000000</td>\n",
       "      <td>10.000000</td>\n",
       "      <td>10.000000</td>\n",
       "      <td>10.000000</td>\n",
       "      <td>10.000000</td>\n",
       "      <td>10.000000</td>\n",
       "      <td>10.000000</td>\n",
       "      <td>10.000000</td>\n",
       "      <td>10.000000</td>\n",
       "      <td>10.000000</td>\n",
       "      <td>10.000000</td>\n",
       "      <td>10.000000</td>\n",
       "      <td>10.000000</td>\n",
       "      <td>10.000000</td>\n",
       "      <td>10.000000</td>\n",
       "    </tr>\n",
       "    <tr>\n",
       "      <th>mean</th>\n",
       "      <td>0.826451</td>\n",
       "      <td>0.826435</td>\n",
       "      <td>0.825231</td>\n",
       "      <td>0.832731</td>\n",
       "      <td>0.822731</td>\n",
       "      <td>0.823951</td>\n",
       "      <td>0.825201</td>\n",
       "      <td>0.821481</td>\n",
       "      <td>0.812716</td>\n",
       "      <td>0.816481</td>\n",
       "      <td>0.808966</td>\n",
       "      <td>0.819012</td>\n",
       "      <td>0.800231</td>\n",
       "      <td>0.811466</td>\n",
       "      <td>0.809028</td>\n",
       "      <td>0.797731</td>\n",
       "      <td>0.571790</td>\n",
       "      <td>0.476790</td>\n",
       "    </tr>\n",
       "    <tr>\n",
       "      <th>std</th>\n",
       "      <td>0.057616</td>\n",
       "      <td>0.050257</td>\n",
       "      <td>0.056774</td>\n",
       "      <td>0.034318</td>\n",
       "      <td>0.053576</td>\n",
       "      <td>0.050221</td>\n",
       "      <td>0.047204</td>\n",
       "      <td>0.039058</td>\n",
       "      <td>0.046840</td>\n",
       "      <td>0.043305</td>\n",
       "      <td>0.038769</td>\n",
       "      <td>0.027478</td>\n",
       "      <td>0.050070</td>\n",
       "      <td>0.047746</td>\n",
       "      <td>0.058770</td>\n",
       "      <td>0.031753</td>\n",
       "      <td>0.056468</td>\n",
       "      <td>0.059077</td>\n",
       "    </tr>\n",
       "    <tr>\n",
       "      <th>min</th>\n",
       "      <td>0.725000</td>\n",
       "      <td>0.737500</td>\n",
       "      <td>0.725000</td>\n",
       "      <td>0.775000</td>\n",
       "      <td>0.737500</td>\n",
       "      <td>0.712500</td>\n",
       "      <td>0.712500</td>\n",
       "      <td>0.750000</td>\n",
       "      <td>0.700000</td>\n",
       "      <td>0.725000</td>\n",
       "      <td>0.737500</td>\n",
       "      <td>0.787500</td>\n",
       "      <td>0.700000</td>\n",
       "      <td>0.737500</td>\n",
       "      <td>0.700000</td>\n",
       "      <td>0.750000</td>\n",
       "      <td>0.475000</td>\n",
       "      <td>0.400000</td>\n",
       "    </tr>\n",
       "    <tr>\n",
       "      <th>25%</th>\n",
       "      <td>0.819252</td>\n",
       "      <td>0.818750</td>\n",
       "      <td>0.813079</td>\n",
       "      <td>0.820486</td>\n",
       "      <td>0.794329</td>\n",
       "      <td>0.815625</td>\n",
       "      <td>0.818750</td>\n",
       "      <td>0.813079</td>\n",
       "      <td>0.815625</td>\n",
       "      <td>0.813079</td>\n",
       "      <td>0.781250</td>\n",
       "      <td>0.792593</td>\n",
       "      <td>0.768750</td>\n",
       "      <td>0.787500</td>\n",
       "      <td>0.775694</td>\n",
       "      <td>0.787500</td>\n",
       "      <td>0.563850</td>\n",
       "      <td>0.440625</td>\n",
       "    </tr>\n",
       "    <tr>\n",
       "      <th>50%</th>\n",
       "      <td>0.850000</td>\n",
       "      <td>0.850000</td>\n",
       "      <td>0.843750</td>\n",
       "      <td>0.843750</td>\n",
       "      <td>0.843750</td>\n",
       "      <td>0.837500</td>\n",
       "      <td>0.837500</td>\n",
       "      <td>0.831250</td>\n",
       "      <td>0.826080</td>\n",
       "      <td>0.825000</td>\n",
       "      <td>0.825000</td>\n",
       "      <td>0.818750</td>\n",
       "      <td>0.813657</td>\n",
       "      <td>0.813580</td>\n",
       "      <td>0.812500</td>\n",
       "      <td>0.793750</td>\n",
       "      <td>0.581250</td>\n",
       "      <td>0.462500</td>\n",
       "    </tr>\n",
       "    <tr>\n",
       "      <th>75%</th>\n",
       "      <td>0.850000</td>\n",
       "      <td>0.850000</td>\n",
       "      <td>0.850000</td>\n",
       "      <td>0.850000</td>\n",
       "      <td>0.850000</td>\n",
       "      <td>0.847377</td>\n",
       "      <td>0.847377</td>\n",
       "      <td>0.846875</td>\n",
       "      <td>0.837500</td>\n",
       "      <td>0.843750</td>\n",
       "      <td>0.834915</td>\n",
       "      <td>0.837500</td>\n",
       "      <td>0.837500</td>\n",
       "      <td>0.837500</td>\n",
       "      <td>0.843750</td>\n",
       "      <td>0.811111</td>\n",
       "      <td>0.609375</td>\n",
       "      <td>0.490625</td>\n",
       "    </tr>\n",
       "    <tr>\n",
       "      <th>max</th>\n",
       "      <td>0.900000</td>\n",
       "      <td>0.887500</td>\n",
       "      <td>0.912500</td>\n",
       "      <td>0.875000</td>\n",
       "      <td>0.900000</td>\n",
       "      <td>0.900000</td>\n",
       "      <td>0.887500</td>\n",
       "      <td>0.875000</td>\n",
       "      <td>0.850000</td>\n",
       "      <td>0.862500</td>\n",
       "      <td>0.850000</td>\n",
       "      <td>0.862500</td>\n",
       "      <td>0.862500</td>\n",
       "      <td>0.887500</td>\n",
       "      <td>0.900000</td>\n",
       "      <td>0.862500</td>\n",
       "      <td>0.637500</td>\n",
       "      <td>0.587500</td>\n",
       "    </tr>\n",
       "  </tbody>\n",
       "</table>\n",
       "</div>"
      ],
      "text/plain": [
       "       clf_logistic  clf_logistic_bucket     clf_nn     clf_gb  clf_nn_bucket  \\\n",
       "count     10.000000            10.000000  10.000000  10.000000      10.000000   \n",
       "mean       0.826451             0.826435   0.825231   0.832731       0.822731   \n",
       "std        0.057616             0.050257   0.056774   0.034318       0.053576   \n",
       "min        0.725000             0.737500   0.725000   0.775000       0.737500   \n",
       "25%        0.819252             0.818750   0.813079   0.820486       0.794329   \n",
       "50%        0.850000             0.850000   0.843750   0.843750       0.843750   \n",
       "75%        0.850000             0.850000   0.850000   0.850000       0.850000   \n",
       "max        0.900000             0.887500   0.912500   0.875000       0.900000   \n",
       "\n",
       "       clf_svc_bucket    clf_svc  clf_gb_bucket  clf_adaboost_bucket  \\\n",
       "count       10.000000  10.000000      10.000000            10.000000   \n",
       "mean         0.823951   0.825201       0.821481             0.812716   \n",
       "std          0.050221   0.047204       0.039058             0.046840   \n",
       "min          0.712500   0.712500       0.750000             0.700000   \n",
       "25%          0.815625   0.818750       0.813079             0.815625   \n",
       "50%          0.837500   0.837500       0.831250             0.826080   \n",
       "75%          0.847377   0.847377       0.846875             0.837500   \n",
       "max          0.900000   0.887500       0.875000             0.850000   \n",
       "\n",
       "       clf_adaboost  clf_forest_bucket    clf_xgb  clf_knn_bucket  \\\n",
       "count     10.000000          10.000000  10.000000       10.000000   \n",
       "mean       0.816481           0.808966   0.819012        0.800231   \n",
       "std        0.043305           0.038769   0.027478        0.050070   \n",
       "min        0.725000           0.737500   0.787500        0.700000   \n",
       "25%        0.813079           0.781250   0.792593        0.768750   \n",
       "50%        0.825000           0.825000   0.818750        0.813657   \n",
       "75%        0.843750           0.834915   0.837500        0.837500   \n",
       "max        0.862500           0.850000   0.862500        0.862500   \n",
       "\n",
       "       clf_xgb_bucket    clf_knn  clf_forest  clf_bayes_bucket  clf_bayes  \n",
       "count       10.000000  10.000000   10.000000         10.000000  10.000000  \n",
       "mean         0.811466   0.809028    0.797731          0.571790   0.476790  \n",
       "std          0.047746   0.058770    0.031753          0.056468   0.059077  \n",
       "min          0.737500   0.700000    0.750000          0.475000   0.400000  \n",
       "25%          0.787500   0.775694    0.787500          0.563850   0.440625  \n",
       "50%          0.813580   0.812500    0.793750          0.581250   0.462500  \n",
       "75%          0.837500   0.843750    0.811111          0.609375   0.490625  \n",
       "max          0.887500   0.900000    0.862500          0.637500   0.587500  "
      ]
     },
     "execution_count": 118,
     "metadata": {},
     "output_type": "execute_result"
    }
   ],
   "source": [
    "cv_scores_df.describe().sort_values(by='50%', axis=1, ascending=False)"
   ]
  },
  {
   "cell_type": "markdown",
   "id": "3c103662-5876-4d3d-9bc7-3efadc3c410d",
   "metadata": {},
   "source": [
    "## __shortlist__ \n",
    "[\"clf_gb\",\t\"clf_nn\", \"clf_logistic_bucket\"]"
   ]
  },
  {
   "cell_type": "code",
   "execution_count": 120,
   "id": "4cfba904-3732-4f3e-bfe7-999e3a0fceca",
   "metadata": {
    "execution": {
     "iopub.execute_input": "2024-06-27T14:10:55.702917Z",
     "iopub.status.busy": "2024-06-27T14:10:55.702917Z",
     "iopub.status.idle": "2024-06-27T14:10:55.981030Z",
     "shell.execute_reply": "2024-06-27T14:10:55.981030Z",
     "shell.execute_reply.started": "2024-06-27T14:10:55.702917Z"
    }
   },
   "outputs": [
    {
     "data": {
      "text/html": [
       "<div>\n",
       "<style scoped>\n",
       "    .dataframe tbody tr th:only-of-type {\n",
       "        vertical-align: middle;\n",
       "    }\n",
       "\n",
       "    .dataframe tbody tr th {\n",
       "        vertical-align: top;\n",
       "    }\n",
       "\n",
       "    .dataframe thead th {\n",
       "        text-align: right;\n",
       "    }\n",
       "</style>\n",
       "<table border=\"1\" class=\"dataframe\">\n",
       "  <thead>\n",
       "    <tr style=\"text-align: right;\">\n",
       "      <th></th>\n",
       "      <th>clf_gb</th>\n",
       "      <th>clf_nn</th>\n",
       "      <th>clf_logistic</th>\n",
       "      <th>clf_svc_bucket</th>\n",
       "    </tr>\n",
       "  </thead>\n",
       "  <tbody>\n",
       "    <tr>\n",
       "      <th>count</th>\n",
       "      <td>10.000000</td>\n",
       "      <td>10.000000</td>\n",
       "      <td>10.000000</td>\n",
       "      <td>10.000000</td>\n",
       "    </tr>\n",
       "    <tr>\n",
       "      <th>mean</th>\n",
       "      <td>0.832731</td>\n",
       "      <td>0.825231</td>\n",
       "      <td>0.826451</td>\n",
       "      <td>0.823951</td>\n",
       "    </tr>\n",
       "    <tr>\n",
       "      <th>std</th>\n",
       "      <td>0.034318</td>\n",
       "      <td>0.056774</td>\n",
       "      <td>0.057616</td>\n",
       "      <td>0.050221</td>\n",
       "    </tr>\n",
       "    <tr>\n",
       "      <th>min</th>\n",
       "      <td>0.775000</td>\n",
       "      <td>0.725000</td>\n",
       "      <td>0.725000</td>\n",
       "      <td>0.712500</td>\n",
       "    </tr>\n",
       "    <tr>\n",
       "      <th>25%</th>\n",
       "      <td>0.820486</td>\n",
       "      <td>0.813079</td>\n",
       "      <td>0.819252</td>\n",
       "      <td>0.815625</td>\n",
       "    </tr>\n",
       "    <tr>\n",
       "      <th>50%</th>\n",
       "      <td>0.843750</td>\n",
       "      <td>0.843750</td>\n",
       "      <td>0.850000</td>\n",
       "      <td>0.837500</td>\n",
       "    </tr>\n",
       "    <tr>\n",
       "      <th>75%</th>\n",
       "      <td>0.850000</td>\n",
       "      <td>0.850000</td>\n",
       "      <td>0.850000</td>\n",
       "      <td>0.847377</td>\n",
       "    </tr>\n",
       "    <tr>\n",
       "      <th>max</th>\n",
       "      <td>0.875000</td>\n",
       "      <td>0.912500</td>\n",
       "      <td>0.900000</td>\n",
       "      <td>0.900000</td>\n",
       "    </tr>\n",
       "  </tbody>\n",
       "</table>\n",
       "</div>"
      ],
      "text/plain": [
       "          clf_gb     clf_nn  clf_logistic  clf_svc_bucket\n",
       "count  10.000000  10.000000     10.000000       10.000000\n",
       "mean    0.832731   0.825231      0.826451        0.823951\n",
       "std     0.034318   0.056774      0.057616        0.050221\n",
       "min     0.775000   0.725000      0.725000        0.712500\n",
       "25%     0.820486   0.813079      0.819252        0.815625\n",
       "50%     0.843750   0.843750      0.850000        0.837500\n",
       "75%     0.850000   0.850000      0.850000        0.847377\n",
       "max     0.875000   0.912500      0.900000        0.900000"
      ]
     },
     "execution_count": 120,
     "metadata": {},
     "output_type": "execute_result"
    }
   ],
   "source": [
    "cv_scores_df.describe()[[\"clf_gb\",\t\"clf_nn\", \"clf_logistic\", \"clf_svc_bucket\"]]"
   ]
  },
  {
   "cell_type": "code",
   "execution_count": 171,
   "id": "37a1d9b0-6e41-4c2a-a689-9592cde5a6ea",
   "metadata": {
    "execution": {
     "iopub.execute_input": "2024-06-27T14:52:05.847755Z",
     "iopub.status.busy": "2024-06-27T14:52:05.847755Z",
     "iopub.status.idle": "2024-06-27T14:52:06.124568Z",
     "shell.execute_reply": "2024-06-27T14:52:06.124568Z",
     "shell.execute_reply.started": "2024-06-27T14:52:05.847755Z"
    }
   },
   "outputs": [],
   "source": [
    "# let's analyze errors\n",
    "shortlist_models_names = [\"clf_gb\",\t\"clf_nn\", \"clf_logistic\", \"clf_svc_bucket\"]\n",
    "shortlist_models = [GradientBoostingClassifier(), MLPClassifier(), LogisticRegression(), SVC()]"
   ]
  },
  {
   "cell_type": "code",
   "execution_count": 172,
   "id": "2abe8a71-9cb7-49b9-b65b-6d98704ecc33",
   "metadata": {
    "execution": {
     "iopub.execute_input": "2024-06-27T14:52:06.148574Z",
     "iopub.status.busy": "2024-06-27T14:52:06.147573Z",
     "iopub.status.idle": "2024-06-27T14:52:06.434580Z",
     "shell.execute_reply": "2024-06-27T14:52:06.433701Z",
     "shell.execute_reply.started": "2024-06-27T14:52:06.148574Z"
    }
   },
   "outputs": [],
   "source": [
    "from sklearn.metrics import accuracy_score, precision_score, recall_score, f1_score, roc_curve, roc_auc_score, confusion_matrix"
   ]
  },
  {
   "cell_type": "code",
   "execution_count": 173,
   "id": "72ea14bd-92cd-4171-8b44-682ad36fbef0",
   "metadata": {
    "execution": {
     "iopub.execute_input": "2024-06-27T14:52:06.449038Z",
     "iopub.status.busy": "2024-06-27T14:52:06.448012Z",
     "iopub.status.idle": "2024-06-27T14:52:06.730708Z",
     "shell.execute_reply": "2024-06-27T14:52:06.730708Z",
     "shell.execute_reply.started": "2024-06-27T14:52:06.449038Z"
    }
   },
   "outputs": [
    {
     "data": {
      "text/plain": [
       "{'Accuracy': 1.0,\n",
       " 'Precision': 1.0,\n",
       " 'Recall': 1.0,\n",
       " 'F1Score': 1.0,\n",
       " 'ROC_AUC': 1.0,\n",
       " 'ConfusionMatrix': array([[504,   0],\n",
       "        [  0, 297]], dtype=int64)}"
      ]
     },
     "execution_count": 173,
     "metadata": {},
     "output_type": "execute_result"
    }
   ],
   "source": [
    "metric_names = [\"Accuracy\", \"Precision\", \"Recall\", \"F1Score\", \"ROC_AUC\", \"ConfusionMatrix\"]\n",
    "metric_funcs = [accuracy_score, precision_score, recall_score, f1_score, roc_auc_score, confusion_matrix]\n",
    "\n",
    "def get_mertric_result(y_true, y_pred):\n",
    "    result = {}\n",
    "    for i, name in enumerate(metric_names):\n",
    "        result[name] = metric_funcs[i](y_true, y_pred)\n",
    "    return result\n",
    "\n",
    "get_mertric_result(y_train, y_train)"
   ]
  },
  {
   "cell_type": "code",
   "execution_count": 176,
   "id": "a5a12525-af24-4917-8a79-53a0a2aaa962",
   "metadata": {
    "execution": {
     "iopub.execute_input": "2024-06-27T14:54:45.963264Z",
     "iopub.status.busy": "2024-06-27T14:54:45.963264Z",
     "iopub.status.idle": "2024-06-27T14:55:03.419846Z",
     "shell.execute_reply": "2024-06-27T14:55:03.419846Z",
     "shell.execute_reply.started": "2024-06-27T14:54:45.963264Z"
    },
    "scrolled": true
   },
   "outputs": [
    {
     "name": "stdout",
     "output_type": "stream",
     "text": [
      "=====\t Start clf_gb \t=====\n",
      "=====\t time taken:\t 2.261836528778076sec \t=====\n",
      "=====\t Start clf_nn \t=====\n"
     ]
    },
    {
     "name": "stderr",
     "output_type": "stream",
     "text": [
      "C:\\Users\\asusr\\AppData\\Local\\Programs\\Python\\Python312\\Lib\\site-packages\\sklearn\\neural_network\\_multilayer_perceptron.py:691: ConvergenceWarning: Stochastic Optimizer: Maximum iterations (200) reached and the optimization hasn't converged yet.\n",
      "  warnings.warn(\n",
      "C:\\Users\\asusr\\AppData\\Local\\Programs\\Python\\Python312\\Lib\\site-packages\\sklearn\\neural_network\\_multilayer_perceptron.py:691: ConvergenceWarning: Stochastic Optimizer: Maximum iterations (200) reached and the optimization hasn't converged yet.\n",
      "  warnings.warn(\n",
      "C:\\Users\\asusr\\AppData\\Local\\Programs\\Python\\Python312\\Lib\\site-packages\\sklearn\\neural_network\\_multilayer_perceptron.py:691: ConvergenceWarning: Stochastic Optimizer: Maximum iterations (200) reached and the optimization hasn't converged yet.\n",
      "  warnings.warn(\n",
      "C:\\Users\\asusr\\AppData\\Local\\Programs\\Python\\Python312\\Lib\\site-packages\\sklearn\\neural_network\\_multilayer_perceptron.py:691: ConvergenceWarning: Stochastic Optimizer: Maximum iterations (200) reached and the optimization hasn't converged yet.\n",
      "  warnings.warn(\n",
      "C:\\Users\\asusr\\AppData\\Local\\Programs\\Python\\Python312\\Lib\\site-packages\\sklearn\\neural_network\\_multilayer_perceptron.py:691: ConvergenceWarning: Stochastic Optimizer: Maximum iterations (200) reached and the optimization hasn't converged yet.\n",
      "  warnings.warn(\n",
      "C:\\Users\\asusr\\AppData\\Local\\Programs\\Python\\Python312\\Lib\\site-packages\\sklearn\\neural_network\\_multilayer_perceptron.py:691: ConvergenceWarning: Stochastic Optimizer: Maximum iterations (200) reached and the optimization hasn't converged yet.\n",
      "  warnings.warn(\n",
      "C:\\Users\\asusr\\AppData\\Local\\Programs\\Python\\Python312\\Lib\\site-packages\\sklearn\\neural_network\\_multilayer_perceptron.py:691: ConvergenceWarning: Stochastic Optimizer: Maximum iterations (200) reached and the optimization hasn't converged yet.\n",
      "  warnings.warn(\n",
      "C:\\Users\\asusr\\AppData\\Local\\Programs\\Python\\Python312\\Lib\\site-packages\\sklearn\\neural_network\\_multilayer_perceptron.py:691: ConvergenceWarning: Stochastic Optimizer: Maximum iterations (200) reached and the optimization hasn't converged yet.\n",
      "  warnings.warn(\n",
      "C:\\Users\\asusr\\AppData\\Local\\Programs\\Python\\Python312\\Lib\\site-packages\\sklearn\\neural_network\\_multilayer_perceptron.py:691: ConvergenceWarning: Stochastic Optimizer: Maximum iterations (200) reached and the optimization hasn't converged yet.\n",
      "  warnings.warn(\n",
      "C:\\Users\\asusr\\AppData\\Local\\Programs\\Python\\Python312\\Lib\\site-packages\\sklearn\\neural_network\\_multilayer_perceptron.py:691: ConvergenceWarning: Stochastic Optimizer: Maximum iterations (200) reached and the optimization hasn't converged yet.\n",
      "  warnings.warn(\n",
      "C:\\Users\\asusr\\AppData\\Local\\Programs\\Python\\Python312\\Lib\\site-packages\\sklearn\\neural_network\\_multilayer_perceptron.py:691: ConvergenceWarning: Stochastic Optimizer: Maximum iterations (200) reached and the optimization hasn't converged yet.\n",
      "  warnings.warn(\n",
      "C:\\Users\\asusr\\AppData\\Local\\Programs\\Python\\Python312\\Lib\\site-packages\\sklearn\\neural_network\\_multilayer_perceptron.py:691: ConvergenceWarning: Stochastic Optimizer: Maximum iterations (200) reached and the optimization hasn't converged yet.\n",
      "  warnings.warn(\n",
      "C:\\Users\\asusr\\AppData\\Local\\Programs\\Python\\Python312\\Lib\\site-packages\\sklearn\\neural_network\\_multilayer_perceptron.py:691: ConvergenceWarning: Stochastic Optimizer: Maximum iterations (200) reached and the optimization hasn't converged yet.\n",
      "  warnings.warn(\n",
      "C:\\Users\\asusr\\AppData\\Local\\Programs\\Python\\Python312\\Lib\\site-packages\\sklearn\\neural_network\\_multilayer_perceptron.py:691: ConvergenceWarning: Stochastic Optimizer: Maximum iterations (200) reached and the optimization hasn't converged yet.\n",
      "  warnings.warn(\n",
      "C:\\Users\\asusr\\AppData\\Local\\Programs\\Python\\Python312\\Lib\\site-packages\\sklearn\\neural_network\\_multilayer_perceptron.py:691: ConvergenceWarning: Stochastic Optimizer: Maximum iterations (200) reached and the optimization hasn't converged yet.\n",
      "  warnings.warn(\n",
      "C:\\Users\\asusr\\AppData\\Local\\Programs\\Python\\Python312\\Lib\\site-packages\\sklearn\\neural_network\\_multilayer_perceptron.py:691: ConvergenceWarning: Stochastic Optimizer: Maximum iterations (200) reached and the optimization hasn't converged yet.\n",
      "  warnings.warn(\n",
      "C:\\Users\\asusr\\AppData\\Local\\Programs\\Python\\Python312\\Lib\\site-packages\\sklearn\\neural_network\\_multilayer_perceptron.py:691: ConvergenceWarning: Stochastic Optimizer: Maximum iterations (200) reached and the optimization hasn't converged yet.\n",
      "  warnings.warn(\n",
      "C:\\Users\\asusr\\AppData\\Local\\Programs\\Python\\Python312\\Lib\\site-packages\\sklearn\\neural_network\\_multilayer_perceptron.py:691: ConvergenceWarning: Stochastic Optimizer: Maximum iterations (200) reached and the optimization hasn't converged yet.\n",
      "  warnings.warn(\n",
      "C:\\Users\\asusr\\AppData\\Local\\Programs\\Python\\Python312\\Lib\\site-packages\\sklearn\\neural_network\\_multilayer_perceptron.py:691: ConvergenceWarning: Stochastic Optimizer: Maximum iterations (200) reached and the optimization hasn't converged yet.\n",
      "  warnings.warn(\n",
      "C:\\Users\\asusr\\AppData\\Local\\Programs\\Python\\Python312\\Lib\\site-packages\\sklearn\\neural_network\\_multilayer_perceptron.py:691: ConvergenceWarning: Stochastic Optimizer: Maximum iterations (200) reached and the optimization hasn't converged yet.\n",
      "  warnings.warn(\n"
     ]
    },
    {
     "name": "stdout",
     "output_type": "stream",
     "text": [
      "=====\t time taken:\t 14.242558717727661sec \t=====\n",
      "=====\t Start clf_logistic \t=====\n",
      "=====\t time taken:\t 0.31540393829345703sec \t=====\n",
      "=====\t Start clf_svc_bucket \t=====\n",
      "=====\t time taken:\t 0.37225818634033203sec \t=====\n"
     ]
    }
   ],
   "source": [
    "cv_results = []\n",
    "\n",
    "for i, model in enumerate(shortlist_models):\n",
    "    # choose which X you will use\n",
    "    model_name = shortlist_models_names[i]\n",
    "    X_ = X_train_bucket if \"bucket\" in model_name else X_train_nobucket\n",
    "    \n",
    "    # start predication    \n",
    "    tick = time.time()\n",
    "    print(f\"=====\\t Start {model_name} \\t=====\")\n",
    "\n",
    "    y_pred_ = cross_val_predict(model, X_, y_train, cv = 10)\n",
    "    if \"svc\" in model_name:\n",
    "        y_pred_proba_ = cross_val_predict(model, X_, y_train, cv = 10, method=\"decision_function\")\n",
    "    else:\n",
    "        y_pred_proba_ = cross_val_predict(model, X_, y_train, cv = 10, method=\"predict_proba\")\n",
    "    result = get_mertric_result(y_train, y_pred_)\n",
    "\n",
    "    # store result\n",
    "    result[\"Predication\"] = y_pred_\n",
    "    result[\"PredicationProbability\"] = y_pred_proba_\n",
    "    result[\"ModelName\"] = model_name\n",
    "    result[\"ContainBucket\"] = True if \"bucket\" in model_name else False\n",
    "\n",
    "    cv_results.append(result)\n",
    "    print(f\"=====\\t time taken:\\t {time.time() - tick}sec \\t=====\")\n",
    "    "
   ]
  },
  {
   "cell_type": "code",
   "execution_count": 177,
   "id": "a9f125a1-3905-4e83-9a3b-4af6b1a0a273",
   "metadata": {
    "execution": {
     "iopub.execute_input": "2024-06-27T14:55:05.267423Z",
     "iopub.status.busy": "2024-06-27T14:55:05.266424Z",
     "iopub.status.idle": "2024-06-27T14:55:05.551367Z",
     "shell.execute_reply": "2024-06-27T14:55:05.551367Z",
     "shell.execute_reply.started": "2024-06-27T14:55:05.267423Z"
    }
   },
   "outputs": [
    {
     "data": {
      "text/html": [
       "<div>\n",
       "<style scoped>\n",
       "    .dataframe tbody tr th:only-of-type {\n",
       "        vertical-align: middle;\n",
       "    }\n",
       "\n",
       "    .dataframe tbody tr th {\n",
       "        vertical-align: top;\n",
       "    }\n",
       "\n",
       "    .dataframe thead th {\n",
       "        text-align: right;\n",
       "    }\n",
       "</style>\n",
       "<table border=\"1\" class=\"dataframe\">\n",
       "  <thead>\n",
       "    <tr style=\"text-align: right;\">\n",
       "      <th></th>\n",
       "      <th>Accuracy</th>\n",
       "      <th>Precision</th>\n",
       "      <th>Recall</th>\n",
       "      <th>F1Score</th>\n",
       "      <th>ROC_AUC</th>\n",
       "      <th>ConfusionMatrix</th>\n",
       "      <th>Predication</th>\n",
       "      <th>PredicationProbability</th>\n",
       "      <th>ContainBucket</th>\n",
       "    </tr>\n",
       "    <tr>\n",
       "      <th>ModelName</th>\n",
       "      <th></th>\n",
       "      <th></th>\n",
       "      <th></th>\n",
       "      <th></th>\n",
       "      <th></th>\n",
       "      <th></th>\n",
       "      <th></th>\n",
       "      <th></th>\n",
       "      <th></th>\n",
       "    </tr>\n",
       "  </thead>\n",
       "  <tbody>\n",
       "    <tr>\n",
       "      <th>clf_gb</th>\n",
       "      <td>0.832709</td>\n",
       "      <td>0.809886</td>\n",
       "      <td>0.717172</td>\n",
       "      <td>0.760714</td>\n",
       "      <td>0.808983</td>\n",
       "      <td>[[454, 50], [84, 213]]</td>\n",
       "      <td>[0, 1, 0, 1, 1, 0, 0, 0, 1, 0, 0, 1, 0, 0, 1, ...</td>\n",
       "      <td>[[0.9766714680779581, 0.023328531922041908], [...</td>\n",
       "      <td>False</td>\n",
       "    </tr>\n",
       "    <tr>\n",
       "      <th>clf_nn</th>\n",
       "      <td>0.825218</td>\n",
       "      <td>0.831224</td>\n",
       "      <td>0.663300</td>\n",
       "      <td>0.737828</td>\n",
       "      <td>0.791967</td>\n",
       "      <td>[[464, 40], [100, 197]]</td>\n",
       "      <td>[0, 0, 0, 1, 1, 0, 0, 0, 1, 0, 0, 1, 0, 0, 0, ...</td>\n",
       "      <td>[[0.9996224917991406, 0.0003775082008593214], ...</td>\n",
       "      <td>False</td>\n",
       "    </tr>\n",
       "    <tr>\n",
       "      <th>clf_logistic</th>\n",
       "      <td>0.826467</td>\n",
       "      <td>0.780142</td>\n",
       "      <td>0.740741</td>\n",
       "      <td>0.759931</td>\n",
       "      <td>0.808862</td>\n",
       "      <td>[[442, 62], [77, 220]]</td>\n",
       "      <td>[0, 1, 0, 1, 1, 0, 0, 0, 1, 0, 1, 1, 0, 0, 0, ...</td>\n",
       "      <td>[[0.9895493513687569, 0.010450648631243077], [...</td>\n",
       "      <td>False</td>\n",
       "    </tr>\n",
       "    <tr>\n",
       "      <th>clf_svc_bucket</th>\n",
       "      <td>0.823970</td>\n",
       "      <td>0.802326</td>\n",
       "      <td>0.696970</td>\n",
       "      <td>0.745946</td>\n",
       "      <td>0.797890</td>\n",
       "      <td>[[453, 51], [90, 207]]</td>\n",
       "      <td>[0, 1, 0, 1, 1, 0, 0, 0, 1, 0, 0, 1, 0, 0, 0, ...</td>\n",
       "      <td>[-1.1164355222433275, 0.08493702062892355, -1....</td>\n",
       "      <td>True</td>\n",
       "    </tr>\n",
       "  </tbody>\n",
       "</table>\n",
       "</div>"
      ],
      "text/plain": [
       "                Accuracy  Precision    Recall   F1Score   ROC_AUC  \\\n",
       "ModelName                                                           \n",
       "clf_gb          0.832709   0.809886  0.717172  0.760714  0.808983   \n",
       "clf_nn          0.825218   0.831224  0.663300  0.737828  0.791967   \n",
       "clf_logistic    0.826467   0.780142  0.740741  0.759931  0.808862   \n",
       "clf_svc_bucket  0.823970   0.802326  0.696970  0.745946  0.797890   \n",
       "\n",
       "                        ConfusionMatrix  \\\n",
       "ModelName                                 \n",
       "clf_gb           [[454, 50], [84, 213]]   \n",
       "clf_nn          [[464, 40], [100, 197]]   \n",
       "clf_logistic     [[442, 62], [77, 220]]   \n",
       "clf_svc_bucket   [[453, 51], [90, 207]]   \n",
       "\n",
       "                                                      Predication  \\\n",
       "ModelName                                                           \n",
       "clf_gb          [0, 1, 0, 1, 1, 0, 0, 0, 1, 0, 0, 1, 0, 0, 1, ...   \n",
       "clf_nn          [0, 0, 0, 1, 1, 0, 0, 0, 1, 0, 0, 1, 0, 0, 0, ...   \n",
       "clf_logistic    [0, 1, 0, 1, 1, 0, 0, 0, 1, 0, 1, 1, 0, 0, 0, ...   \n",
       "clf_svc_bucket  [0, 1, 0, 1, 1, 0, 0, 0, 1, 0, 0, 1, 0, 0, 0, ...   \n",
       "\n",
       "                                           PredicationProbability  \\\n",
       "ModelName                                                           \n",
       "clf_gb          [[0.9766714680779581, 0.023328531922041908], [...   \n",
       "clf_nn          [[0.9996224917991406, 0.0003775082008593214], ...   \n",
       "clf_logistic    [[0.9895493513687569, 0.010450648631243077], [...   \n",
       "clf_svc_bucket  [-1.1164355222433275, 0.08493702062892355, -1....   \n",
       "\n",
       "                ContainBucket  \n",
       "ModelName                      \n",
       "clf_gb                  False  \n",
       "clf_nn                  False  \n",
       "clf_logistic            False  \n",
       "clf_svc_bucket           True  "
      ]
     },
     "execution_count": 177,
     "metadata": {},
     "output_type": "execute_result"
    }
   ],
   "source": [
    "cv_results_df = pd.DataFrame(cv_results)\n",
    "cv_results_df = cv_results_df.set_index(\"ModelName\")\n",
    "cv_results_df"
   ]
  },
  {
   "cell_type": "code",
   "execution_count": 178,
   "id": "83ec258d-8902-4532-98a1-072daefd3b5d",
   "metadata": {
    "execution": {
     "iopub.execute_input": "2024-06-27T14:55:05.558009Z",
     "iopub.status.busy": "2024-06-27T14:55:05.556552Z",
     "iopub.status.idle": "2024-06-27T14:55:06.296477Z",
     "shell.execute_reply": "2024-06-27T14:55:06.296477Z",
     "shell.execute_reply.started": "2024-06-27T14:55:05.558009Z"
    }
   },
   "outputs": [
    {
     "data": {
      "image/png": "[encoded data removed]",
      "text/plain": [
       "<Figure size 640x480 with 8 Axes>"
      ]
     },
     "metadata": {},
     "output_type": "display_data"
    }
   ],
   "source": [
    "# plt.figure(figsize=(8, 6))\n",
    "for i, row in enumerate(cv_results):\n",
    "    plt.subplot(2, 2, i+1)\n",
    "    conf_matrix = row['ConfusionMatrix']\n",
    "    sns.heatmap(conf_matrix/np.sum(conf_matrix, axis=1), annot=True, fmt=\".1%\")\n",
    "    plt.title(row['ModelName'])\n",
    "    # plt.xlabel(\"Precited\")\n",
    "    # plt.ylabel(\"True\")"
   ]
  },
  {
   "cell_type": "markdown",
   "id": "04443606-a58d-4cf7-85d4-728ea63130c3",
   "metadata": {},
   "source": [
    "- we know that most people didn't survive => we want the model to able to predict unsurvived people more => more focus TN we need low FN\n",
    "- we need higher precision"
   ]
  },
  {
   "cell_type": "code",
   "execution_count": 168,
   "id": "f77bc7ac-adf6-45de-a04d-54ff1dd66878",
   "metadata": {
    "execution": {
     "iopub.execute_input": "2024-06-27T14:50:24.208421Z",
     "iopub.status.busy": "2024-06-27T14:50:24.207424Z",
     "iopub.status.idle": "2024-06-27T14:50:24.471925Z",
     "shell.execute_reply": "2024-06-27T14:50:24.471925Z",
     "shell.execute_reply.started": "2024-06-27T14:50:24.208421Z"
    }
   },
   "outputs": [],
   "source": [
    "from sklearn.metrics import precision_recall_curve"
   ]
  },
  {
   "cell_type": "code",
   "execution_count": 181,
   "id": "656ae070-5638-42d2-b524-418839993203",
   "metadata": {
    "execution": {
     "iopub.execute_input": "2024-06-27T14:57:38.374116Z",
     "iopub.status.busy": "2024-06-27T14:57:38.373032Z",
     "iopub.status.idle": "2024-06-27T14:57:38.923784Z",
     "shell.execute_reply": "2024-06-27T14:57:38.923278Z",
     "shell.execute_reply.started": "2024-06-27T14:57:38.374116Z"
    }
   },
   "outputs": [
    {
     "data": {
      "image/png": "[encoded data removed]",
      "text/plain": [
       "<Figure size 640x480 with 4 Axes>"
      ]
     },
     "metadata": {},
     "output_type": "display_data"
    }
   ],
   "source": [
    "for i, row in enumerate(cv_results):\n",
    "    plt.subplot(2, 2, i+1)\n",
    "    y_pred_ = row[\"PredicationProbability\"]\n",
    "    if y_pred_.ndim > 1:\n",
    "        y_pred_ = y_pred_[:, 1]\n",
    "    precision, recall, thresholds = precision_recall_curve(y_train, y_pred_)\n",
    "    plt.plot(recall, precision)\n",
    "    plt.xlabel(\"recall\")\n",
    "    plt.ylabel(\"precision\")\n",
    "    plt.grid()\n",
    "\n",
    "plt.show()"
   ]
  },
  {
   "cell_type": "markdown",
   "id": "ea63f3da-bdc8-44df-a0ff-4dfe3c9c7417",
   "metadata": {},
   "source": [
    "they all bad make sense we didn't yet fine tunning"
   ]
  },
  {
   "cell_type": "markdown",
   "id": "c063a349-4e80-475c-ad4a-bf278a30b737",
   "metadata": {},
   "source": [
    "# Fine-Tune the System\n",
    "i will fine tune all 4 models"
   ]
  },
  {
   "cell_type": "markdown",
   "id": "2fe58c93-3f92-41ff-95f2-9d945823fa62",
   "metadata": {},
   "source": [
    "## Save Model"
   ]
  },
  {
   "cell_type": "code",
   "execution_count": 209,
   "id": "7a9cd53f-ee04-4a7a-8a92-bc7910812f40",
   "metadata": {
    "execution": {
     "iopub.execute_input": "2024-06-28T12:08:37.585739Z",
     "iopub.status.busy": "2024-06-28T12:08:37.585739Z",
     "iopub.status.idle": "2024-06-28T12:08:37.869491Z",
     "shell.execute_reply": "2024-06-28T12:08:37.869491Z",
     "shell.execute_reply.started": "2024-06-28T12:08:37.585739Z"
    }
   },
   "outputs": [],
   "source": [
    "import joblib"
   ]
  },
  {
   "cell_type": "code",
   "execution_count": 227,
   "id": "ef26ecf8-f9a6-4b05-ab47-25954b2342f2",
   "metadata": {
    "execution": {
     "iopub.execute_input": "2024-06-28T12:20:02.767470Z",
     "iopub.status.busy": "2024-06-28T12:20:02.766447Z",
     "iopub.status.idle": "2024-06-28T12:20:03.030009Z",
     "shell.execute_reply": "2024-06-28T12:20:03.030009Z",
     "shell.execute_reply.started": "2024-06-28T12:20:02.767470Z"
    }
   },
   "outputs": [],
   "source": [
    "def save_model(model, model_name, X_, y_):\n",
    "    save_model.lst_model_index +=  1\n",
    "    # get result csv to save\n",
    "    result = get_mertric_result(y_, model.predict(X_))\n",
    "    result['ModelName'] = model_name\n",
    "    result = pd.DataFrame([result])\n",
    "    # create directory to save file\n",
    "    model_path = f'models/{lst_model_index:04}_{model_name}'\n",
    "    Path(model_path).mkdir(parents=True, exist_ok=True)\n",
    "    # save model and result\n",
    "    result.to_csv(model_path + \"/result.csv\")\n",
    "    joblib.dump(model, model_path + \"/model.joblib\")\n",
    "    # return result\n",
    "    return result, model_path\n",
    "\n",
    "save_model.lst_model_index = 0\n",
    "    \n",
    "def read_model(model_path):\n",
    "    model = joblib.load(model_path + \"/model.joblib\")\n",
    "    model_result = pd.read_csv(model_path + \"/result.csv\")\n",
    "\n",
    "    return model, model_result"
   ]
  },
  {
   "cell_type": "code",
   "execution_count": 285,
   "id": "11a318e4-359d-4832-9271-1937f0aac8e1",
   "metadata": {
    "execution": {
     "iopub.execute_input": "2024-06-28T12:30:18.857685Z",
     "iopub.status.busy": "2024-06-28T12:30:18.856676Z",
     "iopub.status.idle": "2024-06-28T12:30:19.119977Z",
     "shell.execute_reply": "2024-06-28T12:30:19.119977Z",
     "shell.execute_reply.started": "2024-06-28T12:30:18.857685Z"
    }
   },
   "outputs": [],
   "source": [
    "def make_submission(model_path, test_data, pipeline):\n",
    "    model, _ = read_model(model_path)\n",
    "\n",
    "    X_test = pipeline.transform(test_data)\n",
    "    submission_df = pd.DataFrame(index=test_data.index)\n",
    "    submission_df[\"Survived\"] = model.predict(X_test)\n",
    "\n",
    "    \n",
    "    submission_df.to_csv(model_path + \"/submission.csv\")"
   ]
  },
  {
   "cell_type": "markdown",
   "id": "747285f4-f67c-4d87-8f2c-be9ca833d485",
   "metadata": {},
   "source": [
    "## Gradient Boosting"
   ]
  },
  {
   "cell_type": "code",
   "execution_count": 183,
   "id": "b392deb3-ef6d-4c8e-86c4-ce1211a77ffc",
   "metadata": {
    "execution": {
     "iopub.execute_input": "2024-06-27T15:01:03.488027Z",
     "iopub.status.busy": "2024-06-27T15:01:03.487025Z",
     "iopub.status.idle": "2024-06-27T15:01:03.746094Z",
     "shell.execute_reply": "2024-06-27T15:01:03.745084Z",
     "shell.execute_reply.started": "2024-06-27T15:01:03.488027Z"
    }
   },
   "outputs": [],
   "source": [
    "from sklearn.model_selection import GridSearchCV, RandomizedSearchCV"
   ]
  },
  {
   "cell_type": "code",
   "execution_count": 182,
   "id": "579db00e-2ee5-418c-9d58-fcb5220435a5",
   "metadata": {
    "execution": {
     "iopub.execute_input": "2024-06-27T15:00:34.068044Z",
     "iopub.status.busy": "2024-06-27T15:00:34.068044Z",
     "iopub.status.idle": "2024-06-27T15:00:34.340935Z",
     "shell.execute_reply": "2024-06-27T15:00:34.340935Z",
     "shell.execute_reply.started": "2024-06-27T15:00:34.068044Z"
    }
   },
   "outputs": [],
   "source": [
    "shortlist_models_names = [\"clf_gb\",\t\"clf_nn\", \"clf_logistic\", \"clf_svc_bucket\"]\n",
    "shortlist_models = [GradientBoostingClassifier(), MLPClassifier(), LogisticRegression(), SVC()]"
   ]
  },
  {
   "cell_type": "markdown",
   "id": "5cb5431c-dffd-4a90-8ac8-ff5cca08d73b",
   "metadata": {},
   "source": [
    "## GradientBoosting"
   ]
  },
  {
   "cell_type": "code",
   "execution_count": 276,
   "id": "88e0f188-fcc5-436a-9e26-22ce82f95fda",
   "metadata": {
    "execution": {
     "iopub.execute_input": "2024-06-28T12:27:33.505666Z",
     "iopub.status.busy": "2024-06-28T12:27:33.505159Z",
     "iopub.status.idle": "2024-06-28T12:27:40.457452Z",
     "shell.execute_reply": "2024-06-28T12:27:40.457452Z",
     "shell.execute_reply.started": "2024-06-28T12:27:33.505666Z"
    }
   },
   "outputs": [],
   "source": [
    "# let's start with GB\n",
    "paramerters_gb = {\n",
    "    'n_estimators': np.arange(30, 251, 50),\n",
    "    'learning_rate': np.linspace(0.01, 0.2, 10),\n",
    "    'max_depth': np.arange(3, 6),\n",
    "}\n",
    "\n",
    "random_search = RandomizedSearchCV(GradientBoostingClassifier(), param_distributions=paramerters_gb, n_iter=10,\n",
    "                                   cv=5, scoring='accuracy', random_state=42, n_jobs=-1).fit(X_train_nobucket, y_train)"
   ]
  },
  {
   "cell_type": "code",
   "execution_count": 277,
   "id": "f73cc72f-3a62-4501-a304-80def6014399",
   "metadata": {
    "execution": {
     "iopub.execute_input": "2024-06-28T12:27:40.529799Z",
     "iopub.status.busy": "2024-06-28T12:27:40.529799Z",
     "iopub.status.idle": "2024-06-28T12:27:40.783067Z",
     "shell.execute_reply": "2024-06-28T12:27:40.783067Z",
     "shell.execute_reply.started": "2024-06-28T12:27:40.529799Z"
    }
   },
   "outputs": [
    {
     "data": {
      "text/html": [
       "<div>\n",
       "<style scoped>\n",
       "    .dataframe tbody tr th:only-of-type {\n",
       "        vertical-align: middle;\n",
       "    }\n",
       "\n",
       "    .dataframe tbody tr th {\n",
       "        vertical-align: top;\n",
       "    }\n",
       "\n",
       "    .dataframe thead th {\n",
       "        text-align: right;\n",
       "    }\n",
       "</style>\n",
       "<table border=\"1\" class=\"dataframe\">\n",
       "  <thead>\n",
       "    <tr style=\"text-align: right;\">\n",
       "      <th></th>\n",
       "      <th>Accuracy</th>\n",
       "      <th>Precision</th>\n",
       "      <th>Recall</th>\n",
       "      <th>F1Score</th>\n",
       "      <th>ROC_AUC</th>\n",
       "      <th>ConfusionMatrix</th>\n",
       "    </tr>\n",
       "  </thead>\n",
       "  <tbody>\n",
       "    <tr>\n",
       "      <th>0</th>\n",
       "      <td>0.878901</td>\n",
       "      <td>0.903475</td>\n",
       "      <td>0.764706</td>\n",
       "      <td>0.828319</td>\n",
       "      <td>0.8571</td>\n",
       "      <td>[[470, 25], [72, 234]]</td>\n",
       "    </tr>\n",
       "  </tbody>\n",
       "</table>\n",
       "</div>"
      ],
      "text/plain": [
       "   Accuracy  Precision    Recall   F1Score  ROC_AUC         ConfusionMatrix\n",
       "0  0.878901   0.903475  0.764706  0.828319   0.8571  [[470, 25], [72, 234]]"
      ]
     },
     "execution_count": 277,
     "metadata": {},
     "output_type": "execute_result"
    }
   ],
   "source": [
    "clf_gb_bst = random_search.best_estimator_\n",
    "pd.DataFrame([get_mertric_result(y_train, clf_gb_bst.predict(X_train_nobucket))])"
   ]
  },
  {
   "cell_type": "code",
   "execution_count": 278,
   "id": "53da0a8c-5924-45bd-802d-ec60b92427bf",
   "metadata": {
    "execution": {
     "iopub.execute_input": "2024-06-28T12:27:40.864867Z",
     "iopub.status.busy": "2024-06-28T12:27:40.864867Z",
     "iopub.status.idle": "2024-06-28T12:27:41.109189Z",
     "shell.execute_reply": "2024-06-28T12:27:41.108624Z",
     "shell.execute_reply.started": "2024-06-28T12:27:40.864867Z"
    }
   },
   "outputs": [
    {
     "data": {
      "text/plain": [
       "0.8327251552795032"
      ]
     },
     "execution_count": 278,
     "metadata": {},
     "output_type": "execute_result"
    }
   ],
   "source": [
    "random_search.best_score_"
   ]
  },
  {
   "cell_type": "code",
   "execution_count": 280,
   "id": "a6367bbd-9d96-4f3b-bdc2-32d7f02187fe",
   "metadata": {
    "execution": {
     "iopub.execute_input": "2024-06-28T12:27:41.411547Z",
     "iopub.status.busy": "2024-06-28T12:27:41.411547Z",
     "iopub.status.idle": "2024-06-28T12:27:41.658051Z",
     "shell.execute_reply": "2024-06-28T12:27:41.657530Z",
     "shell.execute_reply.started": "2024-06-28T12:27:41.411547Z"
    }
   },
   "outputs": [],
   "source": [
    "# kinda overfit I see let's increase learning rate"
   ]
  },
  {
   "cell_type": "code",
   "execution_count": 281,
   "id": "6871f2ba-18fe-4496-bffb-20acedb14d80",
   "metadata": {
    "execution": {
     "iopub.execute_input": "2024-06-28T12:27:41.674215Z",
     "iopub.status.busy": "2024-06-28T12:27:41.674215Z",
     "iopub.status.idle": "2024-06-28T12:27:41.952687Z",
     "shell.execute_reply": "2024-06-28T12:27:41.952687Z",
     "shell.execute_reply.started": "2024-06-28T12:27:41.674215Z"
    }
   },
   "outputs": [
    {
     "data": {
      "text/plain": [
       "(   Accuracy  Precision    Recall   F1Score   ROC_AUC     ConfusionMatrix  \\\n",
       " 0  0.844444   0.805556  0.805556  0.805556  0.837963  [[47, 7], [7, 29]]   \n",
       " \n",
       "               ModelName  \n",
       " 0  GradientBoost_ACC_82  ,\n",
       " 'models/0000_GradientBoost_ACC_82')"
      ]
     },
     "execution_count": 281,
     "metadata": {},
     "output_type": "execute_result"
    }
   ],
   "source": [
    "save_model(clf_gb_bst, \"GradientBoost_ACC_82\", X_test_nobucket, y_test)"
   ]
  },
  {
   "cell_type": "code",
   "execution_count": 286,
   "id": "3b2a3761-5240-4b9c-a9f4-1905db662952",
   "metadata": {
    "execution": {
     "iopub.execute_input": "2024-06-28T12:30:31.591353Z",
     "iopub.status.busy": "2024-06-28T12:30:31.591353Z",
     "iopub.status.idle": "2024-06-28T12:30:32.013454Z",
     "shell.execute_reply": "2024-06-28T12:30:32.012448Z",
     "shell.execute_reply.started": "2024-06-28T12:30:31.591353Z"
    }
   },
   "outputs": [],
   "source": [
    "make_submission(\"models/0000_GradientBoost_ACC_82\", test_data, pipeline_nobucket_base)"
   ]
  },
  {
   "cell_type": "markdown",
   "id": "b973b58e-b349-4170-b861-0ee26e494977",
   "metadata": {},
   "source": [
    "## NN"
   ]
  },
  {
   "cell_type": "code",
   "execution_count": null,
   "id": "d3b3508c-cf29-4366-9500-dc60289c5fe4",
   "metadata": {},
   "outputs": [],
   "source": []
  },
  {
   "cell_type": "markdown",
   "id": "0e7b57ad-226b-47f2-b097-505e70182679",
   "metadata": {},
   "source": [
    "## SVC"
   ]
  },
  {
   "cell_type": "code",
   "execution_count": 303,
   "id": "13717c07-c3ba-4010-bbda-71557fc4db4f",
   "metadata": {
    "execution": {
     "iopub.execute_input": "2024-06-28T12:51:07.268745Z",
     "iopub.status.busy": "2024-06-28T12:51:07.267721Z",
     "iopub.status.idle": "2024-06-28T12:54:40.388787Z",
     "shell.execute_reply": "2024-06-28T12:54:40.387934Z",
     "shell.execute_reply.started": "2024-06-28T12:51:07.268745Z"
    }
   },
   "outputs": [],
   "source": [
    "param_grid = {'C': [0.1, 1, 10, 100, 1000],\n",
    "              'gamma': [1, 0.1, 0.01, 0.001, 0.0001],\n",
    "              'kernel': ['rbf','linear']}\n",
    "\n",
    "grid = GridSearchCV(SVC() , param_grid, cv=5, scoring=\"accuracy\").fit(X_train_nobucket, y_train)"
   ]
  },
  {
   "cell_type": "code",
   "execution_count": 304,
   "id": "d4f51645-17f3-4e61-b7ad-1bc1bb0351e2",
   "metadata": {
    "execution": {
     "iopub.execute_input": "2024-06-28T12:54:40.510390Z",
     "iopub.status.busy": "2024-06-28T12:54:40.510390Z",
     "iopub.status.idle": "2024-06-28T12:54:40.800639Z",
     "shell.execute_reply": "2024-06-28T12:54:40.800639Z",
     "shell.execute_reply.started": "2024-06-28T12:54:40.510390Z"
    }
   },
   "outputs": [
    {
     "name": "stdout",
     "output_type": "stream",
     "text": [
      "Train Results\n"
     ]
    },
    {
     "data": {
      "text/html": [
       "<div>\n",
       "<style scoped>\n",
       "    .dataframe tbody tr th:only-of-type {\n",
       "        vertical-align: middle;\n",
       "    }\n",
       "\n",
       "    .dataframe tbody tr th {\n",
       "        vertical-align: top;\n",
       "    }\n",
       "\n",
       "    .dataframe thead th {\n",
       "        text-align: right;\n",
       "    }\n",
       "</style>\n",
       "<table border=\"1\" class=\"dataframe\">\n",
       "  <thead>\n",
       "    <tr style=\"text-align: right;\">\n",
       "      <th></th>\n",
       "      <th>Accuracy</th>\n",
       "      <th>Precision</th>\n",
       "      <th>Recall</th>\n",
       "      <th>F1Score</th>\n",
       "      <th>ROC_AUC</th>\n",
       "      <th>ConfusionMatrix</th>\n",
       "    </tr>\n",
       "  </thead>\n",
       "  <tbody>\n",
       "    <tr>\n",
       "      <th>0</th>\n",
       "      <td>0.837703</td>\n",
       "      <td>0.835878</td>\n",
       "      <td>0.715686</td>\n",
       "      <td>0.771127</td>\n",
       "      <td>0.814409</td>\n",
       "      <td>[[452, 43], [87, 219]]</td>\n",
       "    </tr>\n",
       "  </tbody>\n",
       "</table>\n",
       "</div>"
      ],
      "text/plain": [
       "   Accuracy  Precision    Recall   F1Score   ROC_AUC         ConfusionMatrix\n",
       "0  0.837703   0.835878  0.715686  0.771127  0.814409  [[452, 43], [87, 219]]"
      ]
     },
     "execution_count": 304,
     "metadata": {},
     "output_type": "execute_result"
    }
   ],
   "source": [
    "clf_svc_bst = grid.best_estimator_\n",
    "\n",
    "print(\"Train Results\")\n",
    "pd.DataFrame([get_mertric_result(y_train, clf_svc_bst.predict(X_train_nobucket))])"
   ]
  },
  {
   "cell_type": "code",
   "execution_count": 305,
   "id": "eb418af9-d12c-4e0d-8587-d5f1e76d727e",
   "metadata": {
    "execution": {
     "iopub.execute_input": "2024-06-28T12:54:40.827096Z",
     "iopub.status.busy": "2024-06-28T12:54:40.827096Z",
     "iopub.status.idle": "2024-06-28T12:54:41.077388Z",
     "shell.execute_reply": "2024-06-28T12:54:41.077388Z",
     "shell.execute_reply.started": "2024-06-28T12:54:40.827096Z"
    }
   },
   "outputs": [
    {
     "name": "stdout",
     "output_type": "stream",
     "text": [
      "Validation Accuracy\n"
     ]
    },
    {
     "data": {
      "text/plain": [
       "0.8339518633540373"
      ]
     },
     "execution_count": 305,
     "metadata": {},
     "output_type": "execute_result"
    }
   ],
   "source": [
    "print(\"Validation Accuracy\")\n",
    "grid.best_score_"
   ]
  },
  {
   "cell_type": "code",
   "execution_count": 306,
   "id": "24ad14a5-8503-463c-9f2a-08818d9152ad",
   "metadata": {
    "execution": {
     "iopub.execute_input": "2024-06-28T12:54:41.181941Z",
     "iopub.status.busy": "2024-06-28T12:54:41.181941Z",
     "iopub.status.idle": "2024-06-28T12:54:41.461720Z",
     "shell.execute_reply": "2024-06-28T12:54:41.461720Z",
     "shell.execute_reply.started": "2024-06-28T12:54:41.181941Z"
    }
   },
   "outputs": [
    {
     "name": "stdout",
     "output_type": "stream",
     "text": [
      "Test Results\n"
     ]
    },
    {
     "data": {
      "text/html": [
       "<div>\n",
       "<style scoped>\n",
       "    .dataframe tbody tr th:only-of-type {\n",
       "        vertical-align: middle;\n",
       "    }\n",
       "\n",
       "    .dataframe tbody tr th {\n",
       "        vertical-align: top;\n",
       "    }\n",
       "\n",
       "    .dataframe thead th {\n",
       "        text-align: right;\n",
       "    }\n",
       "</style>\n",
       "<table border=\"1\" class=\"dataframe\">\n",
       "  <thead>\n",
       "    <tr style=\"text-align: right;\">\n",
       "      <th></th>\n",
       "      <th>Accuracy</th>\n",
       "      <th>Precision</th>\n",
       "      <th>Recall</th>\n",
       "      <th>F1Score</th>\n",
       "      <th>ROC_AUC</th>\n",
       "      <th>ConfusionMatrix</th>\n",
       "    </tr>\n",
       "  </thead>\n",
       "  <tbody>\n",
       "    <tr>\n",
       "      <th>0</th>\n",
       "      <td>0.833333</td>\n",
       "      <td>0.783784</td>\n",
       "      <td>0.805556</td>\n",
       "      <td>0.794521</td>\n",
       "      <td>0.828704</td>\n",
       "      <td>[[46, 8], [7, 29]]</td>\n",
       "    </tr>\n",
       "  </tbody>\n",
       "</table>\n",
       "</div>"
      ],
      "text/plain": [
       "   Accuracy  Precision    Recall   F1Score   ROC_AUC     ConfusionMatrix\n",
       "0  0.833333   0.783784  0.805556  0.794521  0.828704  [[46, 8], [7, 29]]"
      ]
     },
     "execution_count": 306,
     "metadata": {},
     "output_type": "execute_result"
    }
   ],
   "source": [
    "print(\"Test Results\")\n",
    "pd.DataFrame([get_mertric_result(y_test, clf_svc_bst.predict(X_test_nobucket))])"
   ]
  },
  {
   "cell_type": "code",
   "execution_count": 307,
   "id": "7d4a14a4-a474-429a-aa9a-7df235127065",
   "metadata": {
    "execution": {
     "iopub.execute_input": "2024-06-28T12:54:41.468026Z",
     "iopub.status.busy": "2024-06-28T12:54:41.468026Z",
     "iopub.status.idle": "2024-06-28T12:54:41.722647Z",
     "shell.execute_reply": "2024-06-28T12:54:41.721747Z",
     "shell.execute_reply.started": "2024-06-28T12:54:41.468026Z"
    }
   },
   "outputs": [],
   "source": [
    "# at least there's no overfitting"
   ]
  },
  {
   "cell_type": "code",
   "execution_count": 308,
   "id": "61a01457-015a-416f-958f-db13fbca817b",
   "metadata": {
    "execution": {
     "iopub.execute_input": "2024-06-28T12:55:48.232051Z",
     "iopub.status.busy": "2024-06-28T12:55:48.232051Z",
     "iopub.status.idle": "2024-06-28T12:55:48.538853Z",
     "shell.execute_reply": "2024-06-28T12:55:48.538853Z",
     "shell.execute_reply.started": "2024-06-28T12:55:48.232051Z"
    }
   },
   "outputs": [
    {
     "data": {
      "text/plain": [
       "(   Accuracy  Precision    Recall   F1Score   ROC_AUC     ConfusionMatrix  \\\n",
       " 0  0.833333   0.783784  0.805556  0.794521  0.828704  [[46, 8], [7, 29]]   \n",
       " \n",
       "            ModelName  \n",
       " 0  SVC_NOBUCK_ACC_83  ,\n",
       " 'models/0000_SVC_NOBUCK_ACC_83')"
      ]
     },
     "execution_count": 308,
     "metadata": {},
     "output_type": "execute_result"
    }
   ],
   "source": [
    "save_model(clf_svc_bst, \"SVC_NOBUCK_ACC_83\", X_test_nobucket, y_test)"
   ]
  },
  {
   "cell_type": "code",
   "execution_count": 310,
   "id": "36e9d887-c7f6-4883-a0f2-0ccbd4ca3a3a",
   "metadata": {
    "execution": {
     "iopub.execute_input": "2024-06-28T12:56:12.071259Z",
     "iopub.status.busy": "2024-06-28T12:56:12.071259Z",
     "iopub.status.idle": "2024-06-28T12:56:12.506297Z",
     "shell.execute_reply": "2024-06-28T12:56:12.506297Z",
     "shell.execute_reply.started": "2024-06-28T12:56:12.071259Z"
    }
   },
   "outputs": [],
   "source": [
    "make_submission(\"models/0000_SVC_NOBUCK_ACC_83\", test_data, pipeline_nobucket_base)\n"
   ]
  },
  {
   "cell_type": "code",
   "execution_count": null,
   "id": "d8c79dcf-6628-49b4-a7ed-8e5749d72cc6",
   "metadata": {},
   "outputs": [],
   "source": [
    "# so SVC actually did very will with "
   ]
  }
 ],
 "metadata": {
  "kernelspec": {
   "display_name": "Python 3 (ipykernel)",
   "language": "python",
   "name": "python3"
  },
  "language_info": {
   "codemirror_mode": {
    "name": "ipython",
    "version": 3
   },
   "file_extension": ".py",
   "mimetype": "text/x-python",
   "name": "python",
   "nbconvert_exporter": "python",
   "pygments_lexer": "ipython3",
   "version": "3.12.2"
  }
 },
 "nbformat": 4,
 "nbformat_minor": 5
}
